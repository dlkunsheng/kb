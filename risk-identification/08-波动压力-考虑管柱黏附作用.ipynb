{
 "cells": [
  {
   "cell_type": "markdown",
   "id": "a9c40b11",
   "metadata": {},
   "source": [
    "# 08-波动压力-考虑管柱黏附作用"
   ]
  },
  {
   "cell_type": "code",
   "execution_count": null,
   "id": "0c150ecf",
   "metadata": {},
   "outputs": [],
   "source": [
    "缺少 “TrajectoryData.csv” 文件"
   ]
  }
 ],
 "metadata": {
  "kernelspec": {
   "display_name": "MATLAB Kernel",
   "language": "matlab",
   "name": "jupyter_matlab_kernel"
  },
  "language_info": {
   "file_extension": ".m",
   "mimetype": "text/x-matlab",
   "name": "matlab"
  }
 },
 "nbformat": 4,
 "nbformat_minor": 5
}
