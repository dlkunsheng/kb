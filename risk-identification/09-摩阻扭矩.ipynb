{
 "cells": [
  {
   "cell_type": "markdown",
   "id": "7b947838",
   "metadata": {},
   "source": [
    "# 摩阻扭矩"
   ]
  }
 ],
 "metadata": {
  "kernelspec": {
   "display_name": "MATLAB Kernel",
   "language": "matlab",
   "name": "jupyter_matlab_kernel"
  },
  "language_info": {
   "file_extension": ".m",
   "mimetype": "text/x-matlab",
   "name": "matlab"
  }
 },
 "nbformat": 4,
 "nbformat_minor": 5
}
