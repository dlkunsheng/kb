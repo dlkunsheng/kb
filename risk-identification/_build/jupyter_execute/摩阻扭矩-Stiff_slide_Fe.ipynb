{
 "cells": [
  {
   "cell_type": "markdown",
   "id": "377d510e",
   "metadata": {},
   "source": [
    "# Stiff_slide_Fe"
   ]
  },
  {
   "cell_type": "code",
   "execution_count": 1,
   "id": "cb8b24b6",
   "metadata": {},
   "outputs": [
    {
     "data": {
      "image/png": "[encoded data removed]"
     },
     "execution_count": 1,
     "metadata": {},
     "output_type": "execute_result"
    }
   ],
   "source": [
    "clc;clear;close all;\n",
    "cd(\"D:\\桌面\\毕设\\材料\\摩阻扭矩\\MATLAB\")\n",
    "%% 旋转钻进\n",
    "trajectory_parameters = xlsread('LH11-1-B4H3.xlsx','轨道','A2:C10000');       % 读取轨道数据，依次为井深、井斜角、井斜方位角\n",
    "pipe_parameters = xlsread('LH11-1-B4H3.xlsx','管柱数据','C5:G16');       % 读取套管柱数据，依次为内径，外径，接头外径，长度,线重\n",
    "well_parameters = xlsread('LH11-1-B4H3.xlsx','井身结构','B2:D3');        % 读取井身结构数据，依次为1上层导管下入深度，2上层套管内径，3井眼直径\n",
    "drill_parameters = xlsread('LH11-1-B4H3.xlsx','钻进数据','A2:G10000');\t % 读取钻进数据，依次为1井深，2钻压，3钻头扭矩，4转速，5管柱运动速度，6排量，7钻井液密度\n",
    "HK_TOR = xlsread('LH11-1-B4H3.xlsx','测量值','A2:C1000');      % 读取1井深2钩载3转盘扭矩\n",
    "%% 滑动钻进\n",
    "[alpha,k,kal,kph,tau,dk_ds,tz,nz,bz,dalpha_ds,dpha_ds]=traj_para_pchip(trajectory_parameters);      % 自定义函数计算插值后的计算轨迹参数\n",
    "[m,n] = size(drill_parameters );      % 钻进数据长度\n",
    "depth_start = ceil(drill_parameters(1,1));        % 钻进开始井深\n",
    "depth_end = floor(drill_parameters(m,1));         % 钻进开始井深\n",
    "mu1 = 0.1566;\n",
    "mu2 = 0.2697;\n",
    "mu_cal = [mu1,mu2];\n",
    "dL = 10;\n",
    "for i = 1:m\n",
    "    depth_i = drill_parameters(i,1);        % 钻进井深\n",
    "    if depth_i <= well_parameters(2,1)\n",
    "        pipe_parameters_i = pipe_parameters(1:5,:);\n",
    "        well_parameters_i = well_parameters(1,:);\n",
    "    else\n",
    "        pipe_parameters_i = pipe_parameters(6:10,:);\n",
    "        well_parameters_i = well_parameters(2,:);\n",
    "    end\n",
    "    drill_parameters_i = drill_parameters(i,:);\n",
    "    [Fe,wc] = drill_slide_stiff_cal_Fe(depth_i,pipe_parameters_i,well_parameters_i,drill_parameters_i,alpha,k,tau,dk_ds,tz,nz,bz,mu_cal,dL,0);    \n",
    "    Hookload(i,:) = Fe(1)/1000;     % 记录相应深度处的大钩载荷值\n",
    "    depth_cal(i,:) = depth_i;\n",
    "end\n",
    "plot(depth_cal,Hookload)"
   ]
  },
  {
   "cell_type": "code",
   "execution_count": null,
   "id": "814e2503",
   "metadata": {},
   "outputs": [],
   "source": []
  }
 ],
 "metadata": {
  "kernelspec": {
   "display_name": "MATLAB Kernel",
   "language": "matlab",
   "name": "jupyter_matlab_kernel"
  },
  "language_info": {
   "file_extension": ".m",
   "mimetype": "text/x-matlab",
   "name": "matlab"
  }
 },
 "nbformat": 4,
 "nbformat_minor": 5
}