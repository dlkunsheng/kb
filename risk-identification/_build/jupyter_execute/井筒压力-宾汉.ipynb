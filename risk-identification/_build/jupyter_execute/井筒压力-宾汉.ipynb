{
 "cells": [
  {
   "cell_type": "markdown",
   "id": "6913761a",
   "metadata": {},
   "source": [
    "# 宾汉"
   ]
  }
 ],
 "metadata": {
  "kernelspec": {
   "display_name": "MATLAB Kernel",
   "language": "matlab",
   "name": "jupyter_matlab_kernel"
  },
  "language_info": {
   "file_extension": ".m",
   "mimetype": "text/x-matlab",
   "name": "matlab"
  }
 },
 "nbformat": 4,
 "nbformat_minor": 5
}