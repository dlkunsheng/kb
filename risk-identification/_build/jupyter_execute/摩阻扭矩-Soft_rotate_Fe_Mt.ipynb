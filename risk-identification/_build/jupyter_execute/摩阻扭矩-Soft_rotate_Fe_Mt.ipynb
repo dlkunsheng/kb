{
 "cells": [
  {
   "cell_type": "markdown",
   "id": "ed255a59",
   "metadata": {},
   "source": [
    "# Soft_rotate_Fe_Mt"
   ]
  },
  {
   "cell_type": "code",
   "execution_count": 1,
   "id": "1a2531cd",
   "metadata": {},
   "outputs": [
    {
     "data": {
      "image/png": "[encoded data removed]"
     },
     "execution_count": 1,
     "metadata": {},
     "output_type": "execute_result"
    }
   ],
   "source": [
    "clc;clear;close all;\n",
    "cd(\"D:\\桌面\\毕设\\材料\\摩阻扭矩\\MATLAB\")\n",
    "%% \n",
    "trajectory_parameters = xlsread('LH11-1-B4H3.xlsx','轨道','A2:C10000');       % 读取轨道数据，依次为井深、井斜角、井斜方位角\n",
    "pipe_parameters = xlsread('LH11-1-B4H3.xlsx','管柱数据','C5:G16');      % 读取套管柱数据，依次为内径，外径，接头外径，强度，长度\n",
    "well_parameters = xlsread('LH11-1-B4H3.xlsx','井身结构','A2:C3');     % 读取井身结构数据，依次为1上层导管下入深度，2上层套管内径，3井眼直径\n",
    "drill_parameters = xlsread('LH11-1-B4H3.xlsx','钻进数据','A2:G10000');       % 读取钻进数据，依次为1井深，2钻压，3钻头扭矩，4转速，5管柱运动速度，6排量，7钻井液密度\n",
    "HK_TOR = xlsread('LH11-1-B4H3.xlsx','测量值','A2:C1000');       % 读取1井深2钩载3转盘扭矩\n",
    "%% 旋转钻进\n",
    "[V,N,E,S] = cal_trajectory(trajectory_parameters,1);\n",
    "[alpha,k,kal,kph,tau,dk_ds,tz,nz,bz,dalpha_ds,dpha_ds]=traj_para_linear(trajectory_parameters);      % 自定义函数计算插值后的计算轨迹参数\n",
    "DATA_CAL = [alpha,k,kal,kph,tau,dk_ds,tz,nz,bz,dalpha_ds,dpha_ds];\n",
    "[m,n] = size(drill_parameters );      % 钻进数据长度\n",
    "depth_start = ceil(drill_parameters(1,1));        % 钻进开始井深\n",
    "depth_end = floor(drill_parameters(m,1));         % 钻进开始井深\n",
    "mu1 = 0.2096;       % 套管段摩阻系数\n",
    "mu2 = 0.3097;       % 裸眼段摩阻系数\n",
    "mu_cal = [mu1,mu2];\n",
    "dL = 1;\n",
    "for i = 1:m\n",
    "    depth_i = drill_parameters(i,1);        % 钻进井深\n",
    "    if depth_i < well_parameters(2,1)\n",
    "        pipe_parameters_i = pipe_parameters(1:5,:);\n",
    "        well_parameters_i = well_parameters(1,:);\n",
    "    else\n",
    "        pipe_parameters_i = pipe_parameters(6:10,:);\n",
    "        well_parameters_i = well_parameters(2,:);\n",
    "    end\n",
    "    drill_parameters_i = drill_parameters(i,:);\n",
    "    [Fe,Mt,wc] = drill_rotate_soft_cal_Mt_Fe(depth_i,pipe_parameters_i,well_parameters_i,drill_parameters_i,alpha,k,tau,dk_ds,tz,nz,bz,[mu1,mu2],dL,0);\n",
    "    Hookload(i,:) = Fe(1)/1000;     % 记录相应深度处的大钩载荷值\n",
    "    Torque(i,:) = Mt(1)/1000;\n",
    "    depth_cal(i,:) = depth_i;\n",
    "end\n",
    "plot(depth_cal,Torque,'r');hold on;plot(HK_TOR(:,1),HK_TOR(:,3))"
   ]
  },
  {
   "cell_type": "code",
   "execution_count": null,
   "id": "76fee744",
   "metadata": {},
   "outputs": [],
   "source": []
  }
 ],
 "metadata": {
  "kernelspec": {
   "display_name": "MATLAB Kernel",
   "language": "matlab",
   "name": "jupyter_matlab_kernel"
  },
  "language_info": {
   "file_extension": ".m",
   "mimetype": "text/x-matlab",
   "name": "matlab"
  }
 },
 "nbformat": 4,
 "nbformat_minor": 5
}