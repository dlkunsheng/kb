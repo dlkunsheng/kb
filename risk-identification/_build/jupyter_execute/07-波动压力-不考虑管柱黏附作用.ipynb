{
 "cells": [
  {
   "cell_type": "markdown",
   "id": "309ea24f",
   "metadata": {},
   "source": [
    "# 07-波动压力-不考虑管柱黏附作用"
   ]
  },
  {
   "cell_type": "markdown",
   "id": "54aa47d8",
   "metadata": {},
   "source": [
    "缺少 “TrajectoryData.csv” 这个文件"
   ]
  }
 ],
 "metadata": {
  "kernelspec": {
   "display_name": "MATLAB Kernel",
   "language": "matlab",
   "name": "jupyter_matlab_kernel"
  },
  "language_info": {
   "file_extension": ".m",
   "mimetype": "text/x-matlab",
   "name": "matlab"
  }
 },
 "nbformat": 4,
 "nbformat_minor": 5
}