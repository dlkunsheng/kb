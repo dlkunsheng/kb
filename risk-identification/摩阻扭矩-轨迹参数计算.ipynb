{
 "cells": [
  {
   "cell_type": "markdown",
   "id": "e944264b",
   "metadata": {},
   "source": [
    "##  摩阻扭矩-轨迹参数计算"
   ]
  },
  {
   "cell_type": "markdown",
   "id": "aaea934b",
   "metadata": {},
   "source": [
    "    井眼曲率可以改"
   ]
  },
  {
   "cell_type": "markdown",
   "id": "947b7301",
   "metadata": {},
   "source": [
    "###  traj_para_linear"
   ]
  },
  {
   "cell_type": "code",
   "execution_count": null,
   "id": "0386282d",
   "metadata": {},
   "outputs": [],
   "source": [
    "% 轨迹参数计算函数  从钻头往上计算\n",
    "function [alpha,k,kal,kph,tau,dk_ds,tz,nz,bz,dalpha_ds,dpha_ds]=traj_para_linear(trajectory_parameters)\n",
    "dL = 1;     % 计算间距\n",
    "depth_m = trajectory_parameters(:,1);       % 导入井深\n",
    "incl = trajectory_parameters(:,2)*pi/180;\t% 导入井斜角\n",
    "azim = trajectory_parameters(:,3)*pi/180;\t% 导入井斜方位角\n",
    "depth_traj_para = [0:dL:floor(max(depth_m))]';\t% 计算井深\n",
    "alpha = interp1(depth_m,incl,depth_traj_para,'linear');      %井斜角的三次样条插值，转换为弧度制\n",
    "pha = interp1(depth_m,azim,depth_traj_para,'linear');        %方位角的三次样条插值，转换为弧度制\n",
    "%% 计算轨迹参数，从井底往井口计算，故向前差分为 [(i-1) - (i)]/dL\n",
    "dalpha_ds2 = zeros(length(depth_traj_para));        % 线性插值，井斜二次导数为零，井段断点处一阶导数可能不连续，也取零\n",
    "dpha_ds2 = zeros(length(depth_traj_para));          % 线性插值，方位二次导数为零，井段断点处一阶导数可能不连续，也取零\n",
    "for i=1:length(depth_traj_para)\n",
    "    if i == 1\n",
    "        dalpha_ds(i,:) = 0;      % 井斜变化率\n",
    "        dpha_ds(i,:) = 0;          % 方位变化率\n",
    "        dk_ds(i,:) = 0;\n",
    "        tz(i,:) = 1;\n",
    "        nz(i,:) = 0;\n",
    "        bz(i,:) = 0;\n",
    "        continue;\n",
    "    end\n",
    "    dalpha_ds(i,:) = (alpha(i-1)-alpha(i))/dL;\t% 井斜变化率\n",
    "    dpha_ds(i,:) = (pha(i-1)-pha(i))/dL;        % 方位变化率\n",
    "    k(i,:) = ((dalpha_ds(i))^2+(sin(alpha(i)))^2*(dpha_ds(i))^2)^0.5;       % 井眼曲率\n",
    "    dk_ds(i,:) = (k(i-1) - k(i))/dL;      % 井眼曲率变化率\n",
    "    kal(i,:) = dalpha_ds(i);        % 井斜平面井眼曲率\n",
    "    kph(i,:) = sin(alpha(i))*dpha_ds(i);        % 方位平面井眼曲率\n",
    "    tz(i,:) = cos(alpha(i));        % 切线方向投影分量   \n",
    "    if dalpha_ds(i) == 0 && dpha_ds(i) ~= 0\n",
    "        nz(i,:) = 0;\n",
    "        bz(i,:) = sin(alpha(i));\n",
    "    elseif dpha_ds(i) == 0 || (dalpha_ds(i) == 0 && dpha_ds(i) == 0)\n",
    "        nz(i,:) = sin(alpha(i));\n",
    "        bz(i,:) = 0;\n",
    "    else\n",
    "        nz(i,:) = dalpha_ds(i)*sin(alpha(i))/k(i);      % 主法线方向投影分量\n",
    "        bz(i,:) = -dpha_ds(i)*(sin(alpha(i)))^2/k(i);\t% 次法线方向投影分量\n",
    "    end   \n",
    "    if k(i)<1e-6\n",
    "        k(i,:)=1e-6;        % 如果井眼曲率k小于1e-6，为计算准确，令k=1e-6\n",
    "    end\n",
    "    tau(i,:)=(sin(alpha(i))*(dalpha_ds(i)*dpha_ds2(i)-dpha_ds(i)*dalpha_ds2(i))+dpha_ds(i)*((dalpha_ds(i))^2+(k(i))^2)*cos(alpha(i)))/(k(i))^2;     % 井眼挠度\n",
    "end\n",
    "end"
   ]
  },
  {
   "cell_type": "markdown",
   "id": "f1e03423",
   "metadata": {},
   "source": [
    "### traj_para_pchip"
   ]
  },
  {
   "cell_type": "code",
   "execution_count": null,
   "id": "6c7eea42",
   "metadata": {},
   "outputs": [],
   "source": [
    "% 轨迹参数计算函数  从钻头往上计算\n",
    "function [alpha,k,kal,kph,tau,dk_ds,tz,nz,bz,dalpha_ds,dpha_ds]=traj_para_pchip(trajectory_parameters)\n",
    "dL = 1;\n",
    "depth_m = trajectory_parameters(:,1);       % 导入井深\n",
    "incl = trajectory_parameters(:,2)*pi/180;\t% 导入井斜角\n",
    "azim = trajectory_parameters(:,3)*pi/180;\t% 导入井斜方位角\n",
    "depth_traj_para = [0:dL:floor(max(depth_m))]';\t% 计算井深\n",
    "alpha = interp1(depth_m,incl,depth_traj_para,'pchip');      %井斜角的三次样条插值，转换为弧度制\n",
    "pha = interp1(depth_m,azim,depth_traj_para,'pchip');        %方位角的三次样条插值，转换为弧度制\n",
    "%% 计算轨迹参数，从井底往井口计算，故向前差分为 [(i-1) - (i)]/dL\n",
    "dalpha_ds = zeros(length(depth_traj_para),1);\n",
    "dpha_ds = zeros(length(depth_traj_para),1);\n",
    "dalpha_ds2 = zeros(length(depth_traj_para),1);\n",
    "dpha_ds2 = zeros(length(depth_traj_para),1);\n",
    "k = zeros(length(depth_traj_para),1);\n",
    "dk_ds = zeros(length(depth_traj_para),1);\n",
    "kal = zeros(length(depth_traj_para),1);\n",
    "kph = zeros(length(depth_traj_para),1);\n",
    "tz = zeros(length(depth_traj_para),1);\n",
    "nz = zeros(length(depth_traj_para),1);\n",
    "bz = zeros(length(depth_traj_para),1);\n",
    "tau = zeros(length(depth_traj_para),1);\n",
    "for i=1:length(depth_traj_para)\n",
    "    if i == 1\n",
    "        dalpha_ds(i,:) = 0;      % 井斜变化率\n",
    "        dpha_ds(i,:) = 0;          % 方位变化率\n",
    "        dalpha_ds2(i,:) = 0;\n",
    "        dpha_ds2(i,:) = 0;\n",
    "        k(i,:) = 0;\n",
    "        dk_ds(i,:) = 0;\n",
    "        tz(i,:) = 1;\n",
    "        nz(i,:) = 0;\n",
    "        bz(i,:) = 0;\n",
    "        tau(i,:) = 0;\n",
    "        continue;\n",
    "    end\n",
    "    dalpha_ds(i,:)=(alpha(i-1)-alpha(i))/dL;\t% 井斜变化率\n",
    "    dalpha_ds2(i,:) = (dalpha_ds(i-1)-dalpha_ds(i))/dL;     % 井斜二阶倒数\n",
    "    dpha_ds(i,:) = (pha(i-1)-pha(i))/dL;      % 方位变化率\n",
    "    dpha_ds2(i,:) = (dpha_ds(i-1)-dpha_ds(i))/dL;     % 方位二阶倒数\n",
    "    k(i,:) = ((dalpha_ds(i))^2+(sin(alpha(i)))^2*(dpha_ds(i))^2)^0.5;       % 井眼曲率\n",
    "    dk_ds(i,:) = (k(i-1) - k(i))/dL;      % 井眼曲率变化\n",
    "    kal(i,:) = dalpha_ds(i);        % 井斜平面井眼曲率\n",
    "    kph(i,:) = sin(alpha(i))*dpha_ds(i);        % 方位平面井眼曲率\n",
    "    tz(i,:) = cos(alpha(i));        % 切线方向投影分量\n",
    "    if dalpha_ds(i) == 0 && dpha_ds(i) ~= 0\n",
    "        nz(i,:) = 0;\n",
    "        bz(i,:) = sin(alpha(i));\n",
    "    elseif dpha_ds(i) == 0 || (dalpha_ds(i) == 0 && dpha_ds(i) == 0)\n",
    "        nz(i,:) = sin(alpha(i));\n",
    "        bz(i,:) = 0;\n",
    "    else\n",
    "        nz(i,:) = dalpha_ds(i)*sin(alpha(i))/k(i);      % 主法线方向投影分量\n",
    "        bz(i,:) = -dpha_ds(i)*(sin(alpha(i)))^2/k(i);\t% 次法线方向投影分量\n",
    "    end\n",
    "    if k(i)<1e-6\n",
    "        k(i,:)=1e-6;        % 如果井眼曲率k小于1e-6，为计算准确，令k=1e-6\n",
    "    end\n",
    "    tau(i,:) = (sin(alpha(i))*(dalpha_ds(i)*dpha_ds2(i)-dpha_ds(i)*dalpha_ds2(i))+dpha_ds(i)*((dalpha_ds(i))^2+(k(i))^2)*cos(alpha(i)))/(k(i))^2;     % 井眼挠度\n",
    "end\n",
    "end"
   ]
  }
 ],
 "metadata": {
  "kernelspec": {
   "display_name": "MATLAB Kernel",
   "language": "matlab",
   "name": "jupyter_matlab_kernel"
  },
  "language_info": {
   "file_extension": ".m",
   "mimetype": "text/x-matlab",
   "name": "matlab"
  }
 },
 "nbformat": 4,
 "nbformat_minor": 5
}
