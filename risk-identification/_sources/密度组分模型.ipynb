{
 "cells": [
  {
   "cell_type": "code",
   "execution_count": 1,
   "id": "902d4a77",
   "metadata": {
    "scrolled": true
   },
   "outputs": [
    {
     "name": "stdout",
     "output_type": "stream",
     "text": [
      "目标温度、压力下的钻井液密度：1049.6795 kg/m³"
     ]
    }
   ],
   "source": [
    "clear all;clc;close all\n",
    "cd(\"D:\\桌面\\毕设\\材料\\20221127-结题材料\\03-源代码\\01 - 密度组分模型代码示例\") %%路径\n",
    "% 计算目标温度、压力下的钻井液密度\n",
    "% 输入参数：目标温度T、目标压力P、油水比OWR、盐度SaltContent、油相类型OilType\n",
    "% 输出参数：钻井液密度ρl\n",
    "\n",
    "T=100;      % 目标温度，℃\n",
    "P=30*10^6;  % 目标压力，Pa\n",
    "\n",
    "fc=0.03;    % 化学添加剂体积分数\n",
    "rho_c=1030; % 化学添加剂密度，kg/m^3\n",
    "fs=0.03;    % 固相体积分数\n",
    "rho_s=2500; % 固相密度，kg/m^3\n",
    "fl=1-fc-fs; % 液相体积分数=1-化学添加剂体积分数-固相体积分数\n",
    "OWR=0/100;  % OWR=0/100表示纯水基，OWR=20/100表示油水比为20和80，OWR=100/0表示纯油基\n",
    "fo=OWR*fl;  % 油相绝对体积分数\n",
    "fw=(1-OWR)*fl;  % 水相绝对体积分数\n",
    "\n",
    "T_0=20;     % 参考温度，℃\n",
    "P_0=101325; % 参考压力，Pa\n",
    "\n",
    "SaltContent=10;    % 盐度（重量，wt%），SaltContent=0表示纯水\n",
    "rho_b_0=Density_Brine(T_0,P_0,SaltContent); % 求解参考温度和压力下清水及任意盐度下盐水的密度，kg/m^3\n",
    "\n",
    "OilType=1;  % 取值为1,2,3；OilType=1表示柴油、OilType=2表示矿物油、OilType=3表示合成有机物\n",
    "rho_o_0=Density_Oil(T_0,P_0,OilType);   % 求解参考温度和压力下油相密度，kg/m^3\n",
    "\n",
    "rho_b=Density_Brine(T,P,SaltContent);   % 目标温度、压力下的盐水密度，kg/m^3\n",
    "rho_o=Density_Oil(T,P,OilType);         % 目标温度、压力下的油相密度，kg/m^3\n",
    "\n",
    "rho_l=(rho_o_0*fo+rho_b_0*fw+rho_s*fs+rho_c*fc)/(1+fo*(rho_o_0/rho_o)+fw*(rho_b_0/rho_b-1));    % 目标温度、压力下的钻井液密度，kg/m^3\n",
    "\n",
    "fprintf('目标温度、压力下的钻井液密度：%.4f kg/m³',rho_l)"
   ]
  },
  {
   "cell_type": "code",
   "execution_count": null,
   "id": "d25b2072",
   "metadata": {},
   "outputs": [],
   "source": []
  },
  {
   "cell_type": "code",
   "execution_count": null,
   "id": "c68f2b23",
   "metadata": {},
   "outputs": [],
   "source": []
  }
 ],
 "metadata": {
  "kernelspec": {
   "display_name": "MATLAB Kernel",
   "language": "matlab",
   "name": "jupyter_matlab_kernel"
  },
  "language_info": {
   "file_extension": ".m",
   "mimetype": "text/x-matlab",
   "name": "matlab"
  }
 },
 "nbformat": 4,
 "nbformat_minor": 5
}
