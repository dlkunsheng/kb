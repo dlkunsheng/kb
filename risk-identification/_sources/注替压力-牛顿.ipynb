{
 "cells": [
  {
   "cell_type": "markdown",
   "id": "982bd9d2",
   "metadata": {},
   "source": [
    "# 牛顿"
   ]
  }
 ],
 "metadata": {
  "kernelspec": {
   "display_name": "MATLAB Kernel",
   "language": "matlab",
   "name": "jupyter_matlab_kernel"
  },
  "language_info": {
   "file_extension": ".m",
   "mimetype": "text/x-matlab",
   "name": "matlab"
  }
 },
 "nbformat": 4,
 "nbformat_minor": 5
}
