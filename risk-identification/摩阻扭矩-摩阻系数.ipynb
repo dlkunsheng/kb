{
 "cells": [
  {
   "cell_type": "markdown",
   "id": "c9200a83",
   "metadata": {},
   "source": [
    "## 摩阻扭矩-摩阻系数"
   ]
  },
  {
   "cell_type": "markdown",
   "id": "2d50f212",
   "metadata": {},
   "source": [
    "### 输入  \n",
    "     轨道数据：井深、井斜角、井斜方位角\n",
    "     套管柱数据：内径、外径、接头外径、强度、长度\n",
    "     井身结构数据：导管下入深度、上层套管内径、井眼直径\n",
    "     钻进数据：井深、钻压、钻头扭矩、转速、管柱运动速度、排量、钻井液密度\n",
    "     井深、钩载、转盘扭矩\n",
    "     以及自定义函数计算插值后的计算轨迹参数\n",
    "### 输入示例：\n",
    "    trajectory_parameters = xlsread('LH11-1-B4H3.xlsx','轨道','A2:C1000');       % 读取轨道数据，依次为井深、井斜角、井斜方位角\n",
    "    pipe_parameters = xlsread('LH11-1-B4H3.xlsx','管柱数据','C5:G100');      % 读取套管柱数据，依次为内径，外径，接头外径，强度，长度\n",
    "    well_parameters = xlsread('LH11-1-B4H3.xlsx','井身结构','A2:C3');     % 读取井身结构数据，依次为1上层导管下入深度，2上层套管内径，3井眼直径\n",
    "    drill_parameters = xlsread('LH11-1-B4H3.xlsx','钻进数据','A2:G10000');       % 读取钻进数据，依次为1井深，2钻压，3钻头扭矩，4转速，5管柱运动速度，6排量，7钻井液密度\n",
    "    HK_TOR = xlsread('LH11-1-B4H3.xlsx','测量值','A2:C1000');       % 读取1井深2钩载3转盘扭矩\n",
    "    [alpha,k,kal,kph,tau,dk_ds,tz,nz,bz,dalpha_ds,dpha_ds]=traj_para_linear(trajectory_parameters);      % 自定义函数计算插值后的计算轨迹参数"
   ]
  },
  {
   "cell_type": "code",
   "execution_count": 1,
   "id": "1a5212fc",
   "metadata": {},
   "outputs": [
    {
     "name": "stdout",
     "output_type": "stream",
     "text": [
      "历时 2.224167 秒。\n",
      "摩阻系数1: 0.2128\n",
      "摩阻系数2: 0.3192"
     ]
    }
   ],
   "source": [
    "clc;clear;close all;\n",
    "cd(\"D:\\桌面\\毕设\\材料\\摩阻扭矩\\MATLAB\")\n",
    "%%  数据读取\n",
    "trajectory_parameters = xlsread('LH11-1-B4H3.xlsx','轨道','A2:C1000');       % 读取轨道数据，依次为井深、井斜角、井斜方位角\n",
    "pipe_parameters = xlsread('LH11-1-B4H3.xlsx','管柱数据','C5:G100');      % 读取套管柱数据，依次为内径，外径，接头外径，强度，长度\n",
    "well_parameters = xlsread('LH11-1-B4H3.xlsx','井身结构','A2:C3');     % 读取井身结构数据，依次为1上层导管下入深度，2上层套管内径，3井眼直径\n",
    "drill_parameters = xlsread('LH11-1-B4H3.xlsx','钻进数据','A2:G10000');       % 读取钻进数据，依次为1井深，2钻压，3钻头扭矩，4转速，5管柱运动速度，6排量，7钻井液密度\n",
    "HK_TOR = xlsread('LH11-1-B4H3.xlsx','测量值','A2:C1000');       % 读取1井深2钩载3转盘扭矩\n",
    "%%\n",
    "drill_parameters = drill_parameters(1:57,:);     \n",
    "HK_TOR = HK_TOR(1:57,:);  \n",
    "% drill_parameters = drill_parameters(58:105,:);     \n",
    "% HK_TOR = HK_TOR(58:105,:);   \n",
    "tic\n",
    "[alpha,k,kal,kph,tau,dk_ds,tz,nz,bz,dalpha_ds,dpha_ds]=traj_para_linear(trajectory_parameters);      % 自定义函数计算插值后的计算轨迹参数\n",
    "dL = 10;\n",
    "[mu1, mu2, delta] = cal_mu1_and_mu2_fmin(pipe_parameters,drill_parameters, well_parameters,HK_TOR,alpha,k,kal,kph,tau,dk_ds,tz,nz,bz,dL);\n",
    "toc\n",
    "fprintf(\"摩阻系数1: %.4f\\n\",mu1)\n",
    "fprintf(\"摩阻系数2: %.4f\",mu2)\n"
   ]
  },
  {
   "cell_type": "code",
   "execution_count": null,
   "id": "df795018",
   "metadata": {},
   "outputs": [],
   "source": []
  }
 ],
 "metadata": {
  "kernelspec": {
   "display_name": "MATLAB Kernel",
   "language": "matlab",
   "name": "jupyter_matlab_kernel"
  },
  "language_info": {
   "file_extension": ".m",
   "mimetype": "text/x-matlab",
   "name": "matlab"
  }
 },
 "nbformat": 4,
 "nbformat_minor": 5
}
