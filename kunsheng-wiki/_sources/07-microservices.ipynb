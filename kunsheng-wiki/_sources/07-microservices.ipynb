{
 "cells": [
  {
   "cell_type": "markdown",
   "id": "5b5c710c-2ca6-489f-8b60-bb42aeb9f17c",
   "metadata": {},
   "source": [
    "# 微服务"
   ]
  },
  {
   "cell_type": "markdown",
   "id": "45915bf4-a72f-4360-85ed-cabf4f9b84fc",
   "metadata": {},
   "source": [
    "## 最佳实践\n",
    "\n",
    "在微服务架构中创建系统除非遵循一些强有力的原则，否则极其困难。\n",
    "\n",
    "在构建微服务之前你必须知道的9个最佳实践：\n",
    "\n",
    "1 - 为失败而设计\n",
    "一个带有微服务的分布式系统将会失败。\n",
    "\n",
    "你必须设计系统以承受多个层面上的失败，如基础设施、数据库和各个服务。使用断路器、隔离区或优雅降级方法来处理失败。\n",
    "\n",
    "2 - 构建小型服务\n",
    "一个微服务不应该同时做多件事。\n",
    "一个好的微服务是设计来很好地做一件事的。\n",
    "\n",
    "3 - 使用轻量级通信协议\n",
    "通信是分布式系统的核心。\n",
    "微服务必须使用轻量级通信协议相互通信。选项包括REST、gRPC或消息代理。\n",
    "\n",
    "4 - 实现服务发现\n",
    "为了相互通信，微服务需要在网络中发现彼此。\n",
    "使用Consul、Eureka或Kubernetes服务等工具实现服务发现。\n",
    "\n",
    "5 - 数据所有权\n",
    "在微服务中，数据应由各个服务拥有和管理。\n",
    "目标应该是减少服务之间的耦合，以便它们能够独立发展。\n",
    "\n",
    "6 - 使用弹性模式\n",
    "实现特定的弹性模式以提高服务的可用性。\n",
    "例子：重试策略、缓存和速率限制。\n",
    "\n",
    "7 - 所有层面的安全\n",
    "在基于微服务的系统中，攻击面相当大。你必须在服务通信路径的每一层实现安全措施。\n",
    "\n",
    "8 - 集中式日志\n",
    "日志对于发现系统中的问题很重要。有了多个服务，它们变得至关重要。\n",
    "\n",
    "9 - 使用容器化技术\n",
    "\n",
    "为了以隔离的方式部署微服务，使用容器化技术。\n",
    "\n",
    "Docker和Kubernetes等工具可以帮助解决这个问题，因为它们旨在简化微服务的扩展和部署。\n",
    "\n",
    "![](07-microservices-001.png)\n",
    "\n"
   ]
  },
  {
   "cell_type": "code",
   "execution_count": null,
   "id": "9032c200-975e-4ed3-abf6-ad4b9f980183",
   "metadata": {},
   "outputs": [],
   "source": []
  }
 ],
 "metadata": {
  "kernelspec": {
   "display_name": "Python 3 (ipykernel)",
   "language": "python",
   "name": "python3"
  },
  "language_info": {
   "codemirror_mode": {
    "name": "ipython",
    "version": 3
   },
   "file_extension": ".py",
   "mimetype": "text/x-python",
   "name": "python",
   "nbconvert_exporter": "python",
   "pygments_lexer": "ipython3",
   "version": "3.11.5"
  }
 },
 "nbformat": 4,
 "nbformat_minor": 5
}
