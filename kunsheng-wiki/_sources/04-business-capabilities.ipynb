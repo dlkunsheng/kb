{
 "cells": [
  {
   "cell_type": "markdown",
   "id": "368ba9be-1afb-457e-add9-784c51f48ed9",
   "metadata": {},
   "source": [
    "# 业务能力"
   ]
  },
  {
   "cell_type": "code",
   "execution_count": null,
   "id": "25ba7c69-0120-4266-a7bb-68f2b1c4b8a5",
   "metadata": {},
   "outputs": [],
   "source": []
  }
 ],
 "metadata": {
  "kernelspec": {
   "display_name": "",
   "name": ""
  },
  "language_info": {
   "name": ""
  }
 },
 "nbformat": 4,
 "nbformat_minor": 5
}
