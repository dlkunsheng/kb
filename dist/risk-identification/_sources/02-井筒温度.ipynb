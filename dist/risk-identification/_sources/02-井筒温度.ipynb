{
 "cells": [
  {
   "cell_type": "markdown",
   "id": "a3d6b462",
   "metadata": {},
   "source": [
    "# 02-井筒温度"
   ]
  },
  {
   "cell_type": "code",
   "execution_count": 1,
   "id": "e12dfe5e",
   "metadata": {},
   "outputs": [
    {
     "data": {
      "text/html": [
       "<html><body><pre>nt = 1</pre></body></html>"
      ],
      "text/plain": [
       "nt = 1"
      ]
     },
     "execution_count": 1,
     "metadata": {},
     "output_type": "execute_result"
    },
    {
     "data": {
      "text/html": [
       "<html><body><pre>nt = 2</pre></body></html>"
      ],
      "text/plain": [
       "nt = 2"
      ]
     },
     "execution_count": 1,
     "metadata": {},
     "output_type": "execute_result"
    },
    {
     "data": {
      "text/html": [
       "<html><body><pre>nt = 3</pre></body></html>"
      ],
      "text/plain": [
       "nt = 3"
      ]
     },
     "execution_count": 1,
     "metadata": {},
     "output_type": "execute_result"
    },
    {
     "data": {
      "text/html": [
       "<html><body><pre>nt = 4</pre></body></html>"
      ],
      "text/plain": [
       "nt = 4"
      ]
     },
     "execution_count": 1,
     "metadata": {},
     "output_type": "execute_result"
    },
    {
     "data": {
      "text/html": [
       "<html><body><pre>nt = 5</pre></body></html>"
      ],
      "text/plain": [
       "nt = 5"
      ]
     },
     "execution_count": 1,
     "metadata": {},
     "output_type": "execute_result"
    },
    {
     "data": {
      "text/html": [
       "<html><body><pre>nt = 6</pre></body></html>"
      ],
      "text/plain": [
       "nt = 6"
      ]
     },
     "execution_count": 1,
     "metadata": {},
     "output_type": "execute_result"
    },
    {
     "data": {
      "text/html": [
       "<html><body><pre>nt = 7</pre></body></html>"
      ],
      "text/plain": [
       "nt = 7"
      ]
     },
     "execution_count": 1,
     "metadata": {},
     "output_type": "execute_result"
    },
    {
     "data": {
      "text/html": [
       "<html><body><pre>nt = 8</pre></body></html>"
      ],
      "text/plain": [
       "nt = 8"
      ]
     },
     "execution_count": 1,
     "metadata": {},
     "output_type": "execute_result"
    },
    {
     "data": {
      "text/html": [
       "<html><body><pre>nt = 9</pre></body></html>"
      ],
      "text/plain": [
       "nt = 9"
      ]
     },
     "execution_count": 1,
     "metadata": {},
     "output_type": "execute_result"
    },
    {
     "data": {
      "text/html": [
       "<html><body><pre>nt = 10</pre></body></html>"
      ],
      "text/plain": [
       "nt = 10"
      ]
     },
     "execution_count": 1,
     "metadata": {},
     "output_type": "execute_result"
    },
    {
     "data": {
      "text/html": [
       "<html><body><pre>nt = 11</pre></body></html>"
      ],
      "text/plain": [
       "nt = 11"
      ]
     },
     "execution_count": 1,
     "metadata": {},
     "output_type": "execute_result"
    },
    {
     "data": {
      "text/html": [
       "<html><body><pre>nt = 12</pre></body></html>"
      ],
      "text/plain": [
       "nt = 12"
      ]
     },
     "execution_count": 1,
     "metadata": {},
     "output_type": "execute_result"
    },
    {
     "data": {
      "text/html": [
       "<html><body><pre>nt = 13</pre></body></html>"
      ],
      "text/plain": [
       "nt = 13"
      ]
     },
     "execution_count": 1,
     "metadata": {},
     "output_type": "execute_result"
    },
    {
     "data": {
      "text/html": [
       "<html><body><pre>nt = 14</pre></body></html>"
      ],
      "text/plain": [
       "nt = 14"
      ]
     },
     "execution_count": 1,
     "metadata": {},
     "output_type": "execute_result"
    },
    {
     "data": {
      "text/html": [
       "<html><body><pre>nt = 15</pre></body></html>"
      ],
      "text/plain": [
       "nt = 15"
      ]
     },
     "execution_count": 1,
     "metadata": {},
     "output_type": "execute_result"
    },
    {
     "data": {
      "text/html": [
       "<html><body><pre>nt = 16</pre></body></html>"
      ],
      "text/plain": [
       "nt = 16"
      ]
     },
     "execution_count": 1,
     "metadata": {},
     "output_type": "execute_result"
    },
    {
     "data": {
      "text/html": [
       "<html><body><pre>nt = 17</pre></body></html>"
      ],
      "text/plain": [
       "nt = 17"
      ]
     },
     "execution_count": 1,
     "metadata": {},
     "output_type": "execute_result"
    },
    {
     "data": {
      "text/html": [
       "<html><body><pre>nt = 18</pre></body></html>"
      ],
      "text/plain": [
       "nt = 18"
      ]
     },
     "execution_count": 1,
     "metadata": {},
     "output_type": "execute_result"
    },
    {
     "data": {
      "text/html": [
       "<html><body><pre>nt = 19</pre></body></html>"
      ],
      "text/plain": [
       "nt = 19"
      ]
     },
     "execution_count": 1,
     "metadata": {},
     "output_type": "execute_result"
    },
    {
     "data": {
      "text/html": [
       "<html><body><pre>nt = 20</pre></body></html>"
      ],
      "text/plain": [
       "nt = 20"
      ]
     },
     "execution_count": 1,
     "metadata": {},
     "output_type": "execute_result"
    },
    {
     "data": {
      "text/html": [
       "<html><body><pre>nt = 21</pre></body></html>"
      ],
      "text/plain": [
       "nt = 21"
      ]
     },
     "execution_count": 1,
     "metadata": {},
     "output_type": "execute_result"
    },
    {
     "data": {
      "text/html": [
       "<html><body><pre>nt = 22</pre></body></html>"
      ],
      "text/plain": [
       "nt = 22"
      ]
     },
     "execution_count": 1,
     "metadata": {},
     "output_type": "execute_result"
    },
    {
     "data": {
      "text/html": [
       "<html><body><pre>nt = 23</pre></body></html>"
      ],
      "text/plain": [
       "nt = 23"
      ]
     },
     "execution_count": 1,
     "metadata": {},
     "output_type": "execute_result"
    },
    {
     "data": {
      "text/html": [
       "<html><body><pre>nt = 24</pre></body></html>"
      ],
      "text/plain": [
       "nt = 24"
      ]
     },
     "execution_count": 1,
     "metadata": {},
     "output_type": "execute_result"
    },
    {
     "data": {
      "text/html": [
       "<html><body><pre>nt = 25</pre></body></html>"
      ],
      "text/plain": [
       "nt = 25"
      ]
     },
     "execution_count": 1,
     "metadata": {},
     "output_type": "execute_result"
    },
    {
     "data": {
      "text/html": [
       "<html><body><pre>nt = 26</pre></body></html>"
      ],
      "text/plain": [
       "nt = 26"
      ]
     },
     "execution_count": 1,
     "metadata": {},
     "output_type": "execute_result"
    },
    {
     "data": {
      "text/html": [
       "<html><body><pre>nt = 27</pre></body></html>"
      ],
      "text/plain": [
       "nt = 27"
      ]
     },
     "execution_count": 1,
     "metadata": {},
     "output_type": "execute_result"
    },
    {
     "data": {
      "text/html": [
       "<html><body><pre>nt = 28</pre></body></html>"
      ],
      "text/plain": [
       "nt = 28"
      ]
     },
     "execution_count": 1,
     "metadata": {},
     "output_type": "execute_result"
    },
    {
     "data": {
      "text/html": [
       "<html><body><pre>nt = 29</pre></body></html>"
      ],
      "text/plain": [
       "nt = 29"
      ]
     },
     "execution_count": 1,
     "metadata": {},
     "output_type": "execute_result"
    },
    {
     "data": {
      "text/html": [
       "<html><body><pre>nt = 30</pre></body></html>"
      ],
      "text/plain": [
       "nt = 30"
      ]
     },
     "execution_count": 1,
     "metadata": {},
     "output_type": "execute_result"
    },
    {
     "data": {
      "text/html": [
       "<html><body><pre>nt = 31</pre></body></html>"
      ],
      "text/plain": [
       "nt = 31"
      ]
     },
     "execution_count": 1,
     "metadata": {},
     "output_type": "execute_result"
    },
    {
     "data": {
      "text/html": [
       "<html><body><pre>nt = 32</pre></body></html>"
      ],
      "text/plain": [
       "nt = 32"
      ]
     },
     "execution_count": 1,
     "metadata": {},
     "output_type": "execute_result"
    },
    {
     "data": {
      "text/html": [
       "<html><body><pre>nt = 33</pre></body></html>"
      ],
      "text/plain": [
       "nt = 33"
      ]
     },
     "execution_count": 1,
     "metadata": {},
     "output_type": "execute_result"
    },
    {
     "data": {
      "text/html": [
       "<html><body><pre>nt = 34</pre></body></html>"
      ],
      "text/plain": [
       "nt = 34"
      ]
     },
     "execution_count": 1,
     "metadata": {},
     "output_type": "execute_result"
    },
    {
     "data": {
      "text/html": [
       "<html><body><pre>nt = 35</pre></body></html>"
      ],
      "text/plain": [
       "nt = 35"
      ]
     },
     "execution_count": 1,
     "metadata": {},
     "output_type": "execute_result"
    },
    {
     "data": {
      "text/html": [
       "<html><body><pre>nt = 36</pre></body></html>"
      ],
      "text/plain": [
       "nt = 36"
      ]
     },
     "execution_count": 1,
     "metadata": {},
     "output_type": "execute_result"
    },
    {
     "data": {
      "text/html": [
       "<html><body><pre>nt = 37</pre></body></html>"
      ],
      "text/plain": [
       "nt = 37"
      ]
     },
     "execution_count": 1,
     "metadata": {},
     "output_type": "execute_result"
    },
    {
     "data": {
      "text/html": [
       "<html><body><pre>nt = 38</pre></body></html>"
      ],
      "text/plain": [
       "nt = 38"
      ]
     },
     "execution_count": 1,
     "metadata": {},
     "output_type": "execute_result"
    },
    {
     "data": {
      "text/html": [
       "<html><body><pre>nt = 39</pre></body></html>"
      ],
      "text/plain": [
       "nt = 39"
      ]
     },
     "execution_count": 1,
     "metadata": {},
     "output_type": "execute_result"
    },
    {
     "data": {
      "text/html": [
       "<html><body><pre>nt = 40</pre></body></html>"
      ],
      "text/plain": [
       "nt = 40"
      ]
     },
     "execution_count": 1,
     "metadata": {},
     "output_type": "execute_result"
    },
    {
     "data": {
      "text/html": [
       "<html><body><pre>nt = 41</pre></body></html>"
      ],
      "text/plain": [
       "nt = 41"
      ]
     },
     "execution_count": 1,
     "metadata": {},
     "output_type": "execute_result"
    },
    {
     "data": {
      "text/html": [
       "<html><body><pre>nt = 42</pre></body></html>"
      ],
      "text/plain": [
       "nt = 42"
      ]
     },
     "execution_count": 1,
     "metadata": {},
     "output_type": "execute_result"
    },
    {
     "data": {
      "text/html": [
       "<html><body><pre>nt = 43</pre></body></html>"
      ],
      "text/plain": [
       "nt = 43"
      ]
     },
     "execution_count": 1,
     "metadata": {},
     "output_type": "execute_result"
    },
    {
     "data": {
      "text/html": [
       "<html><body><pre>nt = 44</pre></body></html>"
      ],
      "text/plain": [
       "nt = 44"
      ]
     },
     "execution_count": 1,
     "metadata": {},
     "output_type": "execute_result"
    },
    {
     "data": {
      "text/html": [
       "<html><body><pre>nt = 45</pre></body></html>"
      ],
      "text/plain": [
       "nt = 45"
      ]
     },
     "execution_count": 1,
     "metadata": {},
     "output_type": "execute_result"
    },
    {
     "data": {
      "text/html": [
       "<html><body><pre>nt = 46</pre></body></html>"
      ],
      "text/plain": [
       "nt = 46"
      ]
     },
     "execution_count": 1,
     "metadata": {},
     "output_type": "execute_result"
    },
    {
     "data": {
      "text/html": [
       "<html><body><pre>nt = 47</pre></body></html>"
      ],
      "text/plain": [
       "nt = 47"
      ]
     },
     "execution_count": 1,
     "metadata": {},
     "output_type": "execute_result"
    },
    {
     "data": {
      "text/html": [
       "<html><body><pre>nt = 48</pre></body></html>"
      ],
      "text/plain": [
       "nt = 48"
      ]
     },
     "execution_count": 1,
     "metadata": {},
     "output_type": "execute_result"
    },
    {
     "data": {
      "text/html": [
       "<html><body><pre>nt = 49</pre></body></html>"
      ],
      "text/plain": [
       "nt = 49"
      ]
     },
     "execution_count": 1,
     "metadata": {},
     "output_type": "execute_result"
    },
    {
     "data": {
      "text/html": [
       "<html><body><pre>nt = 50</pre></body></html>"
      ],
      "text/plain": [
       "nt = 50"
      ]
     },
     "execution_count": 1,
     "metadata": {},
     "output_type": "execute_result"
    },
    {
     "data": {
      "text/html": [
       "<html><body><pre>nt = 51</pre></body></html>"
      ],
      "text/plain": [
       "nt = 51"
      ]
     },
     "execution_count": 1,
     "metadata": {},
     "output_type": "execute_result"
    },
    {
     "data": {
      "text/html": [
       "<html><body><pre>nt = 52</pre></body></html>"
      ],
      "text/plain": [
       "nt = 52"
      ]
     },
     "execution_count": 1,
     "metadata": {},
     "output_type": "execute_result"
    },
    {
     "data": {
      "text/html": [
       "<html><body><pre>nt = 53</pre></body></html>"
      ],
      "text/plain": [
       "nt = 53"
      ]
     },
     "execution_count": 1,
     "metadata": {},
     "output_type": "execute_result"
    },
    {
     "data": {
      "text/html": [
       "<html><body><pre>nt = 54</pre></body></html>"
      ],
      "text/plain": [
       "nt = 54"
      ]
     },
     "execution_count": 1,
     "metadata": {},
     "output_type": "execute_result"
    },
    {
     "data": {
      "text/html": [
       "<html><body><pre>nt = 55</pre></body></html>"
      ],
      "text/plain": [
       "nt = 55"
      ]
     },
     "execution_count": 1,
     "metadata": {},
     "output_type": "execute_result"
    },
    {
     "data": {
      "text/html": [
       "<html><body><pre>nt = 56</pre></body></html>"
      ],
      "text/plain": [
       "nt = 56"
      ]
     },
     "execution_count": 1,
     "metadata": {},
     "output_type": "execute_result"
    },
    {
     "data": {
      "text/html": [
       "<html><body><pre>nt = 57</pre></body></html>"
      ],
      "text/plain": [
       "nt = 57"
      ]
     },
     "execution_count": 1,
     "metadata": {},
     "output_type": "execute_result"
    },
    {
     "data": {
      "text/html": [
       "<html><body><pre>nt = 58</pre></body></html>"
      ],
      "text/plain": [
       "nt = 58"
      ]
     },
     "execution_count": 1,
     "metadata": {},
     "output_type": "execute_result"
    },
    {
     "data": {
      "text/html": [
       "<html><body><pre>nt = 59</pre></body></html>"
      ],
      "text/plain": [
       "nt = 59"
      ]
     },
     "execution_count": 1,
     "metadata": {},
     "output_type": "execute_result"
    },
    {
     "data": {
      "text/html": [
       "<html><body><pre>nt = 60</pre></body></html>"
      ],
      "text/plain": [
       "nt = 60"
      ]
     },
     "execution_count": 1,
     "metadata": {},
     "output_type": "execute_result"
    },
    {
     "data": {
      "text/html": [
       "<html><body><pre>nt = 61</pre></body></html>"
      ],
      "text/plain": [
       "nt = 61"
      ]
     },
     "execution_count": 1,
     "metadata": {},
     "output_type": "execute_result"
    },
    {
     "data": {
      "text/html": [
       "<html><body><pre>nt = 62</pre></body></html>"
      ],
      "text/plain": [
       "nt = 62"
      ]
     },
     "execution_count": 1,
     "metadata": {},
     "output_type": "execute_result"
    },
    {
     "data": {
      "text/html": [
       "<html><body><pre>nt = 63</pre></body></html>"
      ],
      "text/plain": [
       "nt = 63"
      ]
     },
     "execution_count": 1,
     "metadata": {},
     "output_type": "execute_result"
    },
    {
     "data": {
      "text/html": [
       "<html><body><pre>nt = 64</pre></body></html>"
      ],
      "text/plain": [
       "nt = 64"
      ]
     },
     "execution_count": 1,
     "metadata": {},
     "output_type": "execute_result"
    },
    {
     "data": {
      "text/html": [
       "<html><body><pre>nt = 65</pre></body></html>"
      ],
      "text/plain": [
       "nt = 65"
      ]
     },
     "execution_count": 1,
     "metadata": {},
     "output_type": "execute_result"
    },
    {
     "data": {
      "text/html": [
       "<html><body><pre>nt = 66</pre></body></html>"
      ],
      "text/plain": [
       "nt = 66"
      ]
     },
     "execution_count": 1,
     "metadata": {},
     "output_type": "execute_result"
    },
    {
     "data": {
      "text/html": [
       "<html><body><pre>nt = 67</pre></body></html>"
      ],
      "text/plain": [
       "nt = 67"
      ]
     },
     "execution_count": 1,
     "metadata": {},
     "output_type": "execute_result"
    },
    {
     "data": {
      "text/html": [
       "<html><body><pre>nt = 68</pre></body></html>"
      ],
      "text/plain": [
       "nt = 68"
      ]
     },
     "execution_count": 1,
     "metadata": {},
     "output_type": "execute_result"
    },
    {
     "data": {
      "text/html": [
       "<html><body><pre>nt = 69</pre></body></html>"
      ],
      "text/plain": [
       "nt = 69"
      ]
     },
     "execution_count": 1,
     "metadata": {},
     "output_type": "execute_result"
    },
    {
     "data": {
      "text/html": [
       "<html><body><pre>nt = 70</pre></body></html>"
      ],
      "text/plain": [
       "nt = 70"
      ]
     },
     "execution_count": 1,
     "metadata": {},
     "output_type": "execute_result"
    },
    {
     "data": {
      "text/html": [
       "<html><body><pre>nt = 71</pre></body></html>"
      ],
      "text/plain": [
       "nt = 71"
      ]
     },
     "execution_count": 1,
     "metadata": {},
     "output_type": "execute_result"
    },
    {
     "data": {
      "text/html": [
       "<html><body><pre>nt = 72</pre></body></html>"
      ],
      "text/plain": [
       "nt = 72"
      ]
     },
     "execution_count": 1,
     "metadata": {},
     "output_type": "execute_result"
    },
    {
     "data": {
      "text/html": [
       "<html><body><pre>nt = 73</pre></body></html>"
      ],
      "text/plain": [
       "nt = 73"
      ]
     },
     "execution_count": 1,
     "metadata": {},
     "output_type": "execute_result"
    },
    {
     "data": {
      "text/html": [
       "<html><body><pre>nt = 74</pre></body></html>"
      ],
      "text/plain": [
       "nt = 74"
      ]
     },
     "execution_count": 1,
     "metadata": {},
     "output_type": "execute_result"
    },
    {
     "data": {
      "text/html": [
       "<html><body><pre>nt = 75</pre></body></html>"
      ],
      "text/plain": [
       "nt = 75"
      ]
     },
     "execution_count": 1,
     "metadata": {},
     "output_type": "execute_result"
    },
    {
     "data": {
      "text/html": [
       "<html><body><pre>nt = 76</pre></body></html>"
      ],
      "text/plain": [
       "nt = 76"
      ]
     },
     "execution_count": 1,
     "metadata": {},
     "output_type": "execute_result"
    },
    {
     "data": {
      "text/html": [
       "<html><body><pre>nt = 77</pre></body></html>"
      ],
      "text/plain": [
       "nt = 77"
      ]
     },
     "execution_count": 1,
     "metadata": {},
     "output_type": "execute_result"
    },
    {
     "data": {
      "text/html": [
       "<html><body><pre>nt = 78</pre></body></html>"
      ],
      "text/plain": [
       "nt = 78"
      ]
     },
     "execution_count": 1,
     "metadata": {},
     "output_type": "execute_result"
    },
    {
     "data": {
      "text/html": [
       "<html><body><pre>nt = 79</pre></body></html>"
      ],
      "text/plain": [
       "nt = 79"
      ]
     },
     "execution_count": 1,
     "metadata": {},
     "output_type": "execute_result"
    },
    {
     "data": {
      "text/html": [
       "<html><body><pre>nt = 80</pre></body></html>"
      ],
      "text/plain": [
       "nt = 80"
      ]
     },
     "execution_count": 1,
     "metadata": {},
     "output_type": "execute_result"
    },
    {
     "data": {
      "text/html": [
       "<html><body><pre>nt = 81</pre></body></html>"
      ],
      "text/plain": [
       "nt = 81"
      ]
     },
     "execution_count": 1,
     "metadata": {},
     "output_type": "execute_result"
    },
    {
     "data": {
      "text/html": [
       "<html><body><pre>nt = 82</pre></body></html>"
      ],
      "text/plain": [
       "nt = 82"
      ]
     },
     "execution_count": 1,
     "metadata": {},
     "output_type": "execute_result"
    },
    {
     "data": {
      "text/html": [
       "<html><body><pre>nt = 83</pre></body></html>"
      ],
      "text/plain": [
       "nt = 83"
      ]
     },
     "execution_count": 1,
     "metadata": {},
     "output_type": "execute_result"
    },
    {
     "data": {
      "text/html": [
       "<html><body><pre>nt = 84</pre></body></html>"
      ],
      "text/plain": [
       "nt = 84"
      ]
     },
     "execution_count": 1,
     "metadata": {},
     "output_type": "execute_result"
    },
    {
     "data": {
      "text/html": [
       "<html><body><pre>nt = 85</pre></body></html>"
      ],
      "text/plain": [
       "nt = 85"
      ]
     },
     "execution_count": 1,
     "metadata": {},
     "output_type": "execute_result"
    },
    {
     "data": {
      "text/html": [
       "<html><body><pre>nt = 86</pre></body></html>"
      ],
      "text/plain": [
       "nt = 86"
      ]
     },
     "execution_count": 1,
     "metadata": {},
     "output_type": "execute_result"
    },
    {
     "data": {
      "text/html": [
       "<html><body><pre>nt = 87</pre></body></html>"
      ],
      "text/plain": [
       "nt = 87"
      ]
     },
     "execution_count": 1,
     "metadata": {},
     "output_type": "execute_result"
    },
    {
     "data": {
      "text/html": [
       "<html><body><pre>nt = 88</pre></body></html>"
      ],
      "text/plain": [
       "nt = 88"
      ]
     },
     "execution_count": 1,
     "metadata": {},
     "output_type": "execute_result"
    },
    {
     "data": {
      "text/html": [
       "<html><body><pre>nt = 89</pre></body></html>"
      ],
      "text/plain": [
       "nt = 89"
      ]
     },
     "execution_count": 1,
     "metadata": {},
     "output_type": "execute_result"
    },
    {
     "data": {
      "text/html": [
       "<html><body><pre>nt = 90</pre></body></html>"
      ],
      "text/plain": [
       "nt = 90"
      ]
     },
     "execution_count": 1,
     "metadata": {},
     "output_type": "execute_result"
    },
    {
     "data": {
      "text/html": [
       "<html><body><pre>nt = 91</pre></body></html>"
      ],
      "text/plain": [
       "nt = 91"
      ]
     },
     "execution_count": 1,
     "metadata": {},
     "output_type": "execute_result"
    },
    {
     "data": {
      "text/html": [
       "<html><body><pre>nt = 92</pre></body></html>"
      ],
      "text/plain": [
       "nt = 92"
      ]
     },
     "execution_count": 1,
     "metadata": {},
     "output_type": "execute_result"
    },
    {
     "data": {
      "text/html": [
       "<html><body><pre>nt = 93</pre></body></html>"
      ],
      "text/plain": [
       "nt = 93"
      ]
     },
     "execution_count": 1,
     "metadata": {},
     "output_type": "execute_result"
    },
    {
     "data": {
      "text/html": [
       "<html><body><pre>nt = 94</pre></body></html>"
      ],
      "text/plain": [
       "nt = 94"
      ]
     },
     "execution_count": 1,
     "metadata": {},
     "output_type": "execute_result"
    },
    {
     "data": {
      "text/html": [
       "<html><body><pre>nt = 95</pre></body></html>"
      ],
      "text/plain": [
       "nt = 95"
      ]
     },
     "execution_count": 1,
     "metadata": {},
     "output_type": "execute_result"
    },
    {
     "data": {
      "text/html": [
       "<html><body><pre>nt = 96</pre></body></html>"
      ],
      "text/plain": [
       "nt = 96"
      ]
     },
     "execution_count": 1,
     "metadata": {},
     "output_type": "execute_result"
    },
    {
     "data": {
      "text/html": [
       "<html><body><pre>nt = 97</pre></body></html>"
      ],
      "text/plain": [
       "nt = 97"
      ]
     },
     "execution_count": 1,
     "metadata": {},
     "output_type": "execute_result"
    },
    {
     "data": {
      "text/html": [
       "<html><body><pre>nt = 98</pre></body></html>"
      ],
      "text/plain": [
       "nt = 98"
      ]
     },
     "execution_count": 1,
     "metadata": {},
     "output_type": "execute_result"
    },
    {
     "data": {
      "text/html": [
       "<html><body><pre>nt = 99</pre></body></html>"
      ],
      "text/plain": [
       "nt = 99"
      ]
     },
     "execution_count": 1,
     "metadata": {},
     "output_type": "execute_result"
    },
    {
     "data": {
      "text/html": [
       "<html><body><pre>nt = 100</pre></body></html>"
      ],
      "text/plain": [
       "nt = 100"
      ]
     },
     "execution_count": 1,
     "metadata": {},
     "output_type": "execute_result"
    },
    {
     "data": {
      "image/png": "[encoded data removed]"
     },
     "execution_count": 1,
     "metadata": {},
     "output_type": "execute_result"
    },
    {
     "data": {
      "text/html": [
       "<html><body><pre>ans = 63.8813</pre></body></html>"
      ],
      "text/plain": [
       "ans = 63.8813"
      ]
     },
     "execution_count": 1,
     "metadata": {},
     "output_type": "execute_result"
    },
    {
     "data": {
      "text/html": [
       "<html><body><pre>ans = 27.0244</pre></body></html>"
      ],
      "text/plain": [
       "ans = 27.0244"
      ]
     },
     "execution_count": 1,
     "metadata": {},
     "output_type": "execute_result"
    },
    {
     "name": "stdout",
     "output_type": "stream",
     "text": [
      "历时 3.768747 秒。\n"
     ]
    }
   ],
   "source": [
    "clear all;clc;close all\n",
    "cd(\"D:\\桌面\\毕设\\材料\\20221127-结题材料\\03-源代码\\03 - 井筒温度（更新新的）\")\n",
    "tic;\n",
    "\n",
    "delta_t=3600;           % 时间步长，s\n",
    "timesteps=100;          % 循环次数，即总模拟时间为delta_t×timesteps\n",
    "\n",
    "welldepth=4005;         % 井深，m\n",
    "dz=41;                  % 以dz为主要的网格单元长度，m\n",
    "\n",
    "casing_number=3;        % 套管层数（即表层、技术和生产套管层数，不包括尾管）\n",
    "\n",
    "Depth_weiguan=2505;     % 尾管悬挂深度，m\n",
    "\n",
    "% weiguan=0;              % 不存在尾管，则环空温度只有一个径向层\n",
    "weiguan=1;              % 存在尾管，则需将环空温度场分为三个径向层\n",
    "\n",
    "Rheology_type=1;        % 1为牛顿流体，2为幂律流体，3为宾汉流体，4为赫巴流体\n",
    "% Rheology_type=2;        % 1为牛顿流体，2为幂律流体，3为宾汉流体，4为赫巴流体\n",
    "% Rheology_type=3;        % 1为牛顿流体，2为幂律流体，3为宾汉流体，4为赫巴流体\n",
    "% Rheology_type=4;        % 1为牛顿流体，2为幂律流体，3为宾汉流体，4为赫巴流体\n",
    "\n",
    "%% 井身结构处理及网格划分\n",
    "nobox_r=200;    % 径向网格单元数\n",
    "\n",
    "for i=1:casing_number   % 套管序号，序号从内向外增加，即casing_number=1为生产套管\n",
    "    Depth_casing(i)=welldepth-4000/4*i+5;     % 套管下深，m\n",
    "    if i==casing_number                     % 最外层套管（表层套管）\n",
    "        Depth_fluid(i)=0;                   % 表层套管水泥返深，m（一般返至地面）\n",
    "    else\n",
    "        Depth_fluid(i)=Depth_casing(i)-195; % 非表层套管水泥返深，m（一般返至密封点以上50~200米）\n",
    "    end\n",
    "end\n",
    "\n",
    "%% 是否存在尾管，存在尾管和不存在尾管的系数矩阵计算差别很大，因此使用不同的模型\n",
    "if weiguan==0\n",
    "    section_number=casing_number+1;             % 井段数=套管层数+1，沿井深分段，每一段以dz为主要网格单元长度划分网格，序号从井底向井口增加\n",
    "    if casing_number==0                         % 如果套管层数=0，即裸眼井，则井段数为1\n",
    "        section_length1(1)=welldepth;           % 这一井段的段长为井深，m\n",
    "    else\n",
    "        for i=1:section_number\n",
    "            if i==1\n",
    "                section_length1(i)=welldepth-Depth_casing(i);\n",
    "            elseif i==section_number\n",
    "                section_length1(i)=Depth_casing(i-1);\n",
    "            else\n",
    "                section_length1(i)=Depth_casing(i-1)-Depth_casing(i);\n",
    "            end\n",
    "        end\n",
    "    end\n",
    "else\n",
    "    section_number=casing_number+2;             % 井段数=套管层数+2，沿井深分段，每一段以dz为主要网格单元长度划分网格，序号从井底向井口增加\n",
    "    if casing_number==0\n",
    "        fprintf('尾管存在的时候必须存在套管，即套管数>=1')\n",
    "    elseif casing_number==1\n",
    "        section_length1(1)=welldepth-Depth_casing(1);\n",
    "        section_length1(2)=Depth_casing(1)-Depth_weiguan;\n",
    "        section_length1(3)=Depth_weiguan;\n",
    "    elseif casing_number==2\n",
    "        section_length1(1)=welldepth-Depth_casing(1);\n",
    "        section_length1(2)=Depth_casing(1)-Depth_weiguan;\n",
    "        section_length1(3)=Depth_weiguan-Depth_casing(2);\n",
    "        section_length1(4)=Depth_casing(2);\n",
    "    else\n",
    "        for i=1:section_number\n",
    "            if i==1\n",
    "                section_length1(1)=welldepth-Depth_casing(1);\n",
    "            elseif i==2\n",
    "                section_length1(2)=Depth_casing(1)-Depth_weiguan;\n",
    "            elseif i==3\n",
    "                section_length1(3)=Depth_weiguan-Depth_casing(2);\n",
    "            elseif i==section_number\n",
    "                section_length1(i)=Depth_casing(i-2);\n",
    "            else\n",
    "                section_length1(i)=Depth_casing(i-2)-Depth_casing(i-1);\n",
    "            end\n",
    "        end      \n",
    "    end\n",
    "end\n",
    "\n",
    "section_length1(find(section_length1==0))=[];   % 去除向量中的0元素，对于段长为0的不能作为一段划分网格\n",
    "section_length=section_length1(end:-1:1);       % 将段长向量逆序，即序号从井口向井底增加\n",
    "section_number=length(section_length);          % 由于可能去除了向量中的0元素，需重新计算段长数\n",
    "\n",
    "for i=1:section_number\n",
    "    n(i)=floor(section_length(i)/dz);           % 计算每一段中被dz整除数\n",
    "    m(i)=mod(section_length(i),dz);             % 计算每一段中被dz整除后的余数\n",
    "end\n",
    "\n",
    "delta_z=[];                                     % 总的网格单元长度向量\n",
    "for i=1:section_number\n",
    "    int1=[];                                    % 各段的网格单元长度向量\n",
    "    int1(1:n(i))=dz;                            % 该段n(i)个dz整除项\n",
    "    if m(i)==0\n",
    "        int1=int1;                              % 如果余数为0，则表明被整除，则余数的0不被计入到网格单元长度向量\n",
    "    else\n",
    "        int1=[int1,m(i)];                       % 如果余数不为0，则表明没被整除，则余数计入到网格单元长度向量\n",
    "    end\n",
    "    delta_z=[delta_z,int1];                     % 将这一段的网格单元长度向量与上一段的网格单元长度拼接在一起\n",
    "end\n",
    "\n",
    "nobox_z=length(delta_z)+1;                      % 网格边界数=网格数+1\n",
    "\n",
    "Depth=zeros(nobox_z,1);                         % 井深向量，m\n",
    "Depth(1)=0;                                     % 井口深度，m\n",
    "for i=2:nobox_z\n",
    "    Depth(i)=Depth(i-1)+delta_z(i-1);\n",
    "end\n",
    "\n",
    "Weiguan_i=find(Depth==Depth_weiguan);           % 判断尾管对应的节点数\n",
    "\n",
    "%% 网格参数赋值\n",
    "[rou_m,Cpm,lambdam]=deal(1750,1600,1.75);       % 钻井液的密度（kg/m^3）、比热容（J/(kg·℃））、导热系数（W/(m·℃））\n",
    "[rou_s,Cps,lambdas]=deal(8000,400,43.75);       % 钢材（钻杆或套管）的密度（kg/m^3）、比热容（J/(kg·℃））、导热系数（W/(m·℃））\n",
    "[rou_f,Cpf,lambdaf]=deal(2640,800,2.25);        % 地层的密度（kg/m^3）、比热容（J/(kg·℃））、导热系数（W/(m·℃））\n",
    "[rou_c,Cpc,lambdac]=deal(2140,2000,0.7);        % 水泥的密度（kg/m^3）、比热容（J/(kg·℃））、导热系数（W/(m·℃））\n",
    "\n",
    "Tm0=20;         % 钻井液注入温度，℃\n",
    "Tf0=15;         % 地表温度，℃\n",
    "Tfg=0.0223;     % 地温梯度，℃/m\n",
    "\n",
    "r=zeros(nobox_z,nobox_r+1);     % 半径矩阵（沿井深和径向两个方向）\n",
    "\n",
    "if weiguan==0   % 不存在尾管\n",
    "    r(:,1)=0.0943/2;                % 钻杆内壁半径，m\n",
    "    r(:,2)=0.1143/2;                % 钻杆外壁半径，m\n",
    "    r(:,3)=0.1651/2;                % 井筒内壁半径，m\n",
    "    r(:,4)=0.1851/2;                % 径向第4层外壁半径，m\n",
    "    r(:,5)=0.2051/2;                % 径向第5层外壁半径，m\n",
    "    r(:,6)=0.2251/2;                % 径向第6层外壁半径，m\n",
    "    r(:,7)=0.2451/2;                % 径向第7层外壁半径，m\n",
    "    r(:,8)=0.2651/2;                % 径向第8层外壁半径，m\n",
    "    r(:,9)=0.2851/2;                % 径向第9层外壁半径，m\n",
    "\n",
    "    for i=10:nobox_r+1\n",
    "        delta_r(:,i)=0.02;              % 径向第i层与第i-1层之间的半径差，m\n",
    "        r(:,i)=r(:,i-1)+delta_r(:,i);   % 径向第i层外壁半径，m\n",
    "    end\n",
    "                 \n",
    "    A_annulus=pi*(r(:,3).^2-r(:,2).^2);     % 环空内截面积，m^2\n",
    "else    % 存在尾管\n",
    "    r(:,1)=0.0943/2;        % 钻杆内壁半径，m\n",
    "    r(:,2)=0.1143/2;        % 钻杆外壁半径，m\n",
    "    r(:,3)=0.1451/2;        % 尾管内壁半径，m\n",
    "    r(:,4)=0.1551/2;        % 尾管水泥环内壁半径，m\n",
    "    r(:,5)=0.1651/2;        % 环空半径，m\n",
    "    r(:,6)=0.1851/2;        % 油层套管外壁半径，m\n",
    "    r(:,7)=0.2051/2;        % 技术套管内壁半径，m\n",
    "    r(:,8)=0.2251/2;        % 技术套管外壁半径，m\n",
    "    r(:,9)=0.2451/2;        % 表层套管内壁半径，m\n",
    "    r(:,10)=0.2651/2;       % 表层套管外壁半径，m\n",
    "    r(:,11)=0.2851/2;       % 表层水泥环外壁半径，m\n",
    "    \n",
    "    for i=12:nobox_r+1\n",
    "        delta_r(:,i)=0.02;  % 径向第i层与第i-1层之间的半径差，m\n",
    "        r(:,i)=r(:,i-1)+delta_r(:,i);   % 径向第i层外壁半径，m\n",
    "    end\n",
    "    \n",
    "    A_annulus=zeros(nobox_z,1);     % 计算环空内截面积，m^2\n",
    "    for j=1:nobox_z\n",
    "        if Depth(j)<Depth_weiguan\n",
    "            A_annulus(j)=pi*(r(j,5)^2-r(j,2)^2);\n",
    "        else\n",
    "            A_annulus(j)=pi*(r(j,3)^2-r(j,2)^2);\n",
    "        end\n",
    "        \n",
    "    end\n",
    "end\n",
    "\n",
    "A_drillpipe=pi*r(:,1).^2;       % 计算钻杆内截面积，m^2\n",
    "\n",
    "q=0.55/60;                      % 钻井液排量，m^3/s\n",
    "\n",
    "V_drillpipe=q./A_drillpipe;             % 钻杆内钻井液流速，m/s\n",
    "V_annulus=q./A_annulus;                 % 环空内钻井液流速，m/s\n",
    "\n",
    "if Rheology_type==1\n",
    "    miu_m=0.07;     % 钻井液黏度，Pa·s\n",
    "    miu_drillpipe(1:nobox_z,1)=miu_m;       % 钻杆内钻井液黏度，Pa·s\n",
    "    miu_annulus(1:nobox_z,1)=miu_m;         % 环空内钻井液黏度，Pa·s\n",
    "elseif Rheology_type==2\n",
    "    K_power=0.8;    % 幂律流体稠度系数,Pa·s^n\n",
    "    n_power=0.6;    % 幂律流体流性指数\n",
    "    K_drillpipe(1:nobox_z,1)=K_power;\n",
    "    n_drillpipe(1:nobox_z,1)=n_power;\n",
    "    miu_drillpipe(1:nobox_z,1)=1/2*1022^n_power*K_power/0.511/1000;\n",
    "    miu_annulus=miu_drillpipe;\n",
    "elseif Rheology_type==3\n",
    "    tao_y=7.1;      % 宾汉流体屈服应力，Pa\n",
    "    mu_p=0.02;      % 宾汉流体塑性黏度，Pa·s\n",
    "    miu_drillpipe(1:nobox_z,1)=mu_p;       % 钻杆内钻井液黏度，Pa·s\n",
    "    miu_annulus(1:nobox_z,1)=mu_p;         % 环空内钻井液黏度，Pa·s\n",
    "elseif Rheology_type==4\n",
    "    tao_y=4.6;      % 赫巴流体屈服应力，Pa\n",
    "    K_hb=0.34;      % 赫巴流体稠度系数,Pa·s^n    \n",
    "    n_hb=0.63;      % 赫巴流体流性指数\n",
    "    K_drillpipe(1:nobox_z,1)=K_hb;\n",
    "    n_drillpipe(1:nobox_z,1)=n_hb;\n",
    "    miu_drillpipe(1:nobox_z,1)=1/2*1022^n_hb*K_hb/0.511/1000;\n",
    "    miu_annulus=miu_drillpipe;\n",
    "end\n",
    "\n",
    "Rho=zeros(nobox_z,nobox_r);             % 密度矩阵（沿井深和径向方向）\n",
    "Cp=zeros(nobox_z,nobox_r);              % 比热容矩阵（沿井深和径向方向）\n",
    "lambda=zeros(nobox_z,nobox_r+1);        % 导热系数矩阵（沿井深和径向方向）\n",
    "\n",
    "Rho(:,1)=rou_m;                         % 第一层的密度\n",
    "Cp(:,1)=Cpm;                            % 第一层的比热容\n",
    "lambda(:,1)=lambdam;                    % 第一层的导热系数\n",
    "\n",
    "Rho(:,2)=rou_s;                         % 第二层的密度\n",
    "Cp(:,2)=Cps;                            % 第二层的比热容\n",
    "lambda(:,2)=lambdas;                    % 第二层的导热系数\n",
    "\n",
    "Rho(:,3)=rou_m;                         % 第三层的密度\n",
    "Cp(:,3)=Cpm;                            % 第三层的比热容\n",
    "lambda(:,3)=lambdam;                    % 第三层的导热系数\n",
    "\n",
    "lambda(:,nobox_r+1)=lambdaf;        % 在计算最后一层地层的温度时，需要用到nobox_r+1的导热系数\n",
    "\n",
    "if weiguan==0           % 不存在尾管\n",
    "\n",
    "    if casing_number==0                     % 裸眼井，则第4层及之后的层数均为地层\n",
    "        Rho(:,4:nobox_r)=rou_f;             % 4层及之后的地层密度\n",
    "        Cp(:,4:nobox_r)=Cpf;                % 4层及之后的地层比热容\n",
    "        lambda(:,4:nobox_r)=lambdaf;        % 4层及之后的地层导热系数\n",
    "    else\n",
    "        for i=1:casing_number\n",
    "            for j=1:nobox_z\n",
    "                if Depth(j)<Depth_casing(i) % 小于套管下深，则赋值为套管参数\n",
    "                    Rho(j,3+2*i-1)=rou_s;       % 密度\n",
    "                    Cp(j,3+2*i-1)=Cps;          % 比热容\n",
    "                    lambda(j,3+2*i-1)=lambdas;  % 导热系数\n",
    "                elseif Depth(j)>=Depth_casing(i) & Depth(j)<=welldepth  % 大于套管下深，则赋值为地层参数\n",
    "                    Rho(j,3+2*i-1)=rou_f;       % 密度\n",
    "                    Cp(j,3+2*i-1)=Cpf;          % 比热容\n",
    "                    lambda(j,3+2*i-1)=lambdaf;  % 导热系数\n",
    "                end\n",
    "\n",
    "                if Depth(j)<Depth_fluid(i)  % 小于水泥环返深，则赋值为钻井液参数\n",
    "                    Rho(j,3+2*i)=rou_m;         % 密度\n",
    "                    Cp(j,3+2*i)=Cpm;            % 比热容\n",
    "                    lambda(j,3+2*i)=lambdam;    % 导热系数\n",
    "                elseif Depth(j)>=Depth_fluid(i) & Depth(j)<Depth_casing(i)  % 大于水泥返深且小于套管下深，则赋值为水泥参数\n",
    "                    Rho(j,3+2*i)=rou_c;         % 密度\n",
    "                    Cp(j,3+2*i)=Cpc;            % 比热容\n",
    "                    lambda(j,3+2*i)=lambdac;    % 导热系数\n",
    "                elseif Depth(j)>=Depth_casing(i) & Depth(j)<=welldepth      % 大于套管下深，则赋值为地层参数\n",
    "                    Rho(j,3+2*i)=rou_f;         % 密度\n",
    "                    Cp(j,3+2*i)=Cpf;            % 比热容\n",
    "                    lambda(j,3+2*i)=lambdaf;    % 导热系数\n",
    "                end\n",
    "            end\n",
    "        end\n",
    "    end\n",
    "    for i=3+2*casing_number+1:nobox_r   % 除去套管和水泥，剩余的径向层全部赋值为地层参数\n",
    "        for j=1:nobox_z\n",
    "            Rho(j,i)=rou_f;             % 密度\n",
    "            Cp(j,i)=Cpf;                % 比热容\n",
    "            lambda(j,i)=lambdaf;        % 导热系数\n",
    "        end\n",
    "    end\n",
    "\n",
    "    if Rheology_type==1\n",
    "        Re_drillpipe=Rho(:,1).*V_drillpipe.*(2*r(:,1))./miu_m;                  % 钻杆内雷诺数\n",
    "        Re_annulus=Rho(:,3).*V_annulus.*(2*(r(:,3)-r(:,2)))/miu_m;              % 环空内雷诺数\n",
    "        h_drillpipe=0.027.*lambda(:,1).*Re_drillpipe.^0.8.*(miu_drillpipe.*Cp(:,1)./lambda(:,1)).^0.4./(2*r(:,1))/5;        % 钻井液与钻杆内壁对流换热系数，W/(m^2·℃）   \n",
    "        h_annulus=0.027*lambda(:,3).*Re_annulus.^0.8.*(miu_drillpipe.*Cp(:,3)./lambda(:,3)).^0.4./(2*(r(:,3)-r(:,2)))/5;\t% 钻井液与钻杆外壁对流换热系数，W/(m^2·℃）\n",
    "        h1=h_drillpipe;                                                                                                     % 钻井液与钻杆内壁对流换热系数，W/(m^2·℃）    \n",
    "        h2=h_annulus;                                                                                                       % 钻井液与钻杆外壁对流换热系数，W/(m^2·℃）\n",
    "        h3=h_annulus;                                                                                                       % 钻井液与井筒内壁对流换热系数，W/(m^2·℃）\n",
    "    elseif Rheology_type==2\n",
    "       Re_drillpipe=Rho(:,1).*V_drillpipe.^(2-n_power).*(2*r(:,1)).^n_power./(8^(n_power-1).*K_power.*((1+3*n_power)./(4*n_power)).^n_power);                  % 钻杆内雷诺数\n",
    "        delta_correct=(3*n_power+1)/(4*n_power);\n",
    "        h_drillpipe=0.091*Re_drillpipe.^0.87.*(miu_drillpipe.*Cp(:,1)./lambda(:,1)).^(1/3)*delta_correct./(2*r(:,1))/5;\n",
    "        Re_annulus=zeros(nobox_z,1);\n",
    "        h_annulus=zeros(nobox_z,1);\n",
    "        for j=1:nobox_z\n",
    "            if Depth(j)<Depth_weiguan\n",
    "                Re_annulus(j)=Rho(j,3)*V_annulus(j)^(2-n_power)*(2*(r(j,5)-r(j,2)))^n_power/(8^(n_power-1)*K_power*((1+3*n_power)/(4*n_power))^n_power);              % 环空内雷诺数\n",
    "                h_annulus(j)=0.091*Re_annulus(j)^0.87*(miu_annulus(j)*Cp(j,3)./lambda(j,3))^(1/3)*delta_correct/(2*(r(j,5)-r(j,2)))/5;  % 钻井液与钻杆外壁对流换热系数，W/(m^2·℃）\n",
    "            else\n",
    "                Re_annulus(j)=Rho(j,3)*V_annulus(j)^(2-n_power)*(2*(r(j,3)-r(j,2)))^n_power/(8^(n_power-1)*K_power*((1+3*n_power)/(4*n_power))^n_power);              % 环空内雷诺数\n",
    "                h_annulus(j)=0.091*Re_annulus(j)^0.87*(miu_annulus(j)*Cp(j,3)./lambda(j,3))^(1/3)*delta_correct/(2*(r(j,3)-r(j,2)))/5;\t% 钻井液与钻杆外壁对流换热系数，W/(m^2·℃）\n",
    "            end\n",
    "        end\n",
    "    elseif Rheology_type==3\n",
    "        Re_drillpipe=Rho(:,1).*V_drillpipe.*(2*r(:,1))./mu_p;                  % 钻杆内雷诺数\n",
    "        Re_annulus=Rho(:,3).*V_annulus.*(2*(r(:,3)-r(:,2)))/mu_p;              % 环空内雷诺数\n",
    "        h_drillpipe=0.027.*lambda(:,1).*Re_drillpipe.^0.8.*(miu_drillpipe.*Cp(:,1)./lambda(:,1)).^0.4./(2*r(:,1))/5;        % 钻井液与钻杆内壁对流换热系数，W/(m^2·℃）   \n",
    "        h_annulus=0.027*lambda(:,3).*Re_annulus.^0.8.*(miu_drillpipe.*Cp(:,3)./lambda(:,3)).^0.4./(2*(r(:,3)-r(:,2)))/5;\t% 钻井液与钻杆外壁对流换热系数，W/(m^2·℃）\n",
    "        h1=h_drillpipe;                                                                                                     % 钻井液与钻杆内壁对流换热系数，W/(m^2·℃）    \n",
    "        h2=h_annulus;                                                                                                       % 钻井液与钻杆外壁对流换热系数，W/(m^2·℃）\n",
    "        h3=h_annulus;  \n",
    "    elseif Rheology_type==4\n",
    "        Re_drillpipe=Rho(:,1).*V_drillpipe.^(2-n_hb).*(2*r(:,1)).^n_hb./(8^(n_power-1).*K_hb.*((1+3*n_hb)./(4*n_hb)).^n_hb);                  % 钻杆内雷诺数\n",
    "        delta_correct=(3*n_hb+1)/(4*n_hb);\n",
    "        h_drillpipe=0.091*Re_drillpipe.^0.87.*(miu_drillpipe.*Cp(:,1)./lambda(:,1)).^(1/3)*delta_correct./(2*r(:,1))/5;\n",
    "        Re_annulus=zeros(nobox_z,1);\n",
    "        h_annulus=zeros(nobox_z,1);\n",
    "        for j=1:nobox_z\n",
    "            if Depth(j)<Depth_weiguan\n",
    "                Re_annulus(j)=Rho(j,3)*V_annulus(j)^(2-n_hb)*(2*(r(j,5)-r(j,2)))^n_hb/(8^(n_hb-1)*K_hb*((1+3*n_hb)/(4*n_hb))^n_hb);              % 环空内雷诺数\n",
    "                h_annulus(j)=0.091*Re_annulus(j)^0.87*(miu_annulus(j)*Cp(j,3)./lambda(j,3))^(1/3)*delta_correct/(2*(r(j,5)-r(j,2)))/5;  % 钻井液与钻杆外壁对流换热系数，W/(m^2·℃）\n",
    "            else\n",
    "                Re_annulus(j)=Rho(j,3)*V_annulus(j)^(2-n_hb)*(2*(r(j,3)-r(j,2)))^n_hb/(8^(n_hb-1)*K_hb*((1+3*n_hb)/(4*n_hb))^n_hb);              % 环空内雷诺数\n",
    "                h_annulus(j)=0.091*Re_annulus(j)^0.87*(miu_annulus(j)*Cp(j,3)./lambda(j,3))^(1/3)*delta_correct/(2*(r(j,3)-r(j,2)))/5;\t% 钻井液与钻杆外壁对流换热系数，W/(m^2·℃）\n",
    "            end\n",
    "        end\n",
    "    end\n",
    "    \n",
    "    h1=h_drillpipe;                                                                                                     % 钻井液与钻杆内壁对流换热系数，W/(m^2·℃）    \n",
    "    h2=h_annulus;                                                                                                       % 钻井液与钻杆外壁对流换热系数，W/(m^2·℃）\n",
    "    h3=h_annulus;                                                                                                       % 钻井液与井筒内壁对流换热系数，W/(m^2·℃）\n",
    "    \n",
    "    %% 系数矩阵计算\n",
    "    A=zeros(nobox_z,nobox_r);   % 系数矩阵A\n",
    "    B=zeros(nobox_z,nobox_r);   % 系数矩阵B\n",
    "    C=zeros(nobox_z,nobox_r);   % 系数矩阵C\n",
    "    D=zeros(nobox_z,nobox_r);   % 系数矩阵D\n",
    "    E=zeros(nobox_z,nobox_r);   % 系数矩阵E\n",
    "    F=zeros(nobox_z,nobox_r);   % 系数矩阵F\n",
    "\n",
    "    for j=1:nobox_z\n",
    "        if j==1     % 井口网格系数的计算\n",
    "            A(j,1)=-Rho(j,1)*q*Cp(j,1)/delta_z(j)-2*pi*r(j,1)*h1(j,1)-Rho(j,1)*Cp(j,1)*pi*r(j,1)^2/delta_t;             % 计算钻杆内钻井液温度场大矩阵系数A\n",
    "            B(j,1)=Rho(j,1)*q*Cp(j,1)/delta_z(j);                                                                       % 计算钻杆内钻井液温度场大矩阵系数B                                        \n",
    "            C(j,1)=0;                                                                                                   % 计算钻杆内钻井液温度场大矩阵系数C\n",
    "            D(j,1)=0;                                                                                                   % 计算钻杆内钻井液温度场大矩阵系数D\n",
    "            E(j,1)=2*pi*r(j,1)*h1(j,1);                                                                                 % 计算钻杆内钻井液温度场大矩阵系数E\n",
    "            F(j,1)=-Rho(j,1)*Cp(j,1)*pi*r(j,1)^2/delta_t;                                                               % 计算钻杆内钻井液温度场大矩阵系数F\n",
    "\n",
    "            A(j,2)=-2*lambda(j,2)*pi*(r(j,2)^2-r(j,1)^2)/((delta_z(j)+delta_z(j))*delta_z(j))-2*lambda(j,2)*pi*(r(j,2)^2-r(j,1)^2)/((delta_z(j)+delta_z(j))*delta_z(j))-2*pi*r(j,1)*h1(j,1)-2*pi*r(j,2)*h2(j,1)-Rho(j,2)*Cp(j,2)*pi*(r(j,2)^2-r(j,1)^2)/delta_t;    % 计算钻杆壁面温度场大矩阵系数A\n",
    "            B(j,2)=2*lambda(j,2)*pi*(r(j,2)^2-r(j,1)^2)/((delta_z(j)+delta_z(j))*delta_z(j));                           % 计算钻杆壁面温度场大矩阵系数B\n",
    "            C(j,2)=2*lambda(j,2)*pi*(r(j,2)^2-r(j,1)^2)/((delta_z(j)+delta_z(j))*delta_z(j));                           % 计算钻杆壁面温度场大矩阵系数C\n",
    "            D(j,2)=2*pi*r(j,1)*h1(j,1);                                                                                 % 计算钻杆壁面温度场大矩阵系数D\n",
    "            E(j,2)=2*pi*r(j,2)*h2(j,1);                                                                                 % 计算钻杆壁面温度场大矩阵系数E\n",
    "            F(j,2)=-Rho(j,2)*Cp(j,2)*pi*(r(j,2)^2-r(j,1)^2)/delta_t;                                                    % 计算钻杆壁面温度场大矩阵系数F\n",
    "\n",
    "            A(j,3)=-Rho(j,3)*q*Cp(j,3)/delta_z(j)-2*pi*r(j,2)*h2(j,1)-2*pi*r(j,3)*h3(j,1)-Rho(j,3)*Cp(j,3)*pi*(r(j,3)^2-r(j,2)^2)/delta_t;  % 计算环空内钻井液温度场大矩阵系数A\n",
    "            B(j,3)=0;                                                                                                   % 计算环空内钻井液温度场大矩阵系数B\n",
    "            C(j,3)=Rho(j,3)*q*Cp(j,3)/delta_z(j);                                                                       % 计算环空内钻井液温度场大矩阵系数C\n",
    "            D(j,3)=2*pi*r(j,2)*h2(j,1);                                                                                 % 计算环空内钻井液温度场大矩阵系数D\n",
    "            E(j,3)=2*pi*r(j,3)*h3(j,1);                                                                                 % 计算环空内钻井液温度场大矩阵系数E\n",
    "            F(j,3)=-Rho(j,3)*Cp(j,3)*pi*(r(j,3)^2-r(j,2)^2)/delta_t;                                                    % 计算环空内钻井液温度场大矩阵系数F\n",
    "\n",
    "            A(j,4)=-2*lambda(j,4)*pi*(r(j,4)^2-r(j,3)^2)/((delta_z(j)+delta_z(j))*delta_z(j))-2*lambda(j,4)*pi*(r(j,4)^2-r(j,3)^2)/((delta_z(j)+delta_z(j))*delta_z(j))-2*pi*r(j,3)*h3(j,1)-pi*(r(j,4)^2-r(j,3)^2)*log(r(j,5)/r(j,3))/(r(j,4)*(r(j,4)-r(j,3))*log(r(j,5)/r(j,4))*(log(r(j,4)/r(j,3))/lambda(j,4)+log(r(j,5)/r(j,4))/lambda(j,5)))-Rho(j,4)*Cp(j,4)*pi*(r(j,4)^2-r(j,3)^2)/delta_t;  % 计算第四层温度场大矩阵系数A\n",
    "            B(j,4)=2*lambda(j,4)*pi*(r(j,4)^2-r(j,3)^2)/((delta_z(j)+delta_z(j))*delta_z(j));                           % 计算第四层温度场大矩阵系数B\n",
    "            C(j,4)=2*lambda(j,4)*pi*(r(j,4)^2-r(j,3)^2)/((delta_z(j)+delta_z(j))*delta_z(j));                           % 计算第四层温度场大矩阵系数C\n",
    "            D(j,4)=2*pi*r(j,3)*h3(j,1);                                                                                 % 计算第四层温度场大矩阵系数D\n",
    "            E(j,4)=pi*(r(j,4)^2-r(j,3)^2)*log(r(j,5)/r(j,3))/(r(j,4)*(r(j,4)-r(j,3))*log(r(j,5)/r(j,4))*(log(r(j,4)/r(j,3))/lambda(j,4)+log(r(j,5)/r(j,4))/lambda(j,5)));   % 计算第四层温度场大矩阵系数E\n",
    "            F(j,4)=-Rho(j,4)*Cp(j,4)*pi*(r(j,4)^2-r(j,3)^2)/delta_t;                                                    % 计算第四层温度场大矩阵系数F\n",
    "        else\n",
    "            A(j,1)=-Rho(j,1)*q*Cp(j,1)/delta_z(j-1)-2*pi*r(j,1)*h1(j,1)-Rho(j,1)*Cp(j,1)*pi*r(j,1)^2/delta_t;           % 计算钻杆内钻井液温度场大矩阵系数A\n",
    "            B(j,1)=Rho(j,1)*q*Cp(j,1)/delta_z(j-1);                                                                     % 计算钻杆内钻井液温度场大矩阵系数B\n",
    "            C(j,1)=0;                                                                                                   % 计算钻杆内钻井液温度场大矩阵系数C\n",
    "            D(j,1)=0;                                                                                                   % 计算钻杆内钻井液温度场大矩阵系数D\n",
    "            E(j,1)=2*pi*r(j,1)*h1(j,1);                                                                                 % 计算钻杆内钻井液温度场大矩阵系数E\n",
    "            F(j,1)=-Rho(j,1)*Cp(j,1)*pi*r(j,1)^2/delta_t;                                                               % 计算钻杆内钻井液温度场大矩阵系数F\n",
    "\n",
    "            if j==nobox_z   % 井底网格系数的计算\n",
    "                A(j,2)=-2*lambda(j,2)*pi*(r(j,2)^2-r(j,1)^2)/((delta_z(j-1)+delta_z(j-1))*delta_z(j-1))-2*lambda(j,2)*pi*(r(j,2)^2-r(j,1)^2)/((delta_z(j-1)+delta_z(j-1))*delta_z(j-1))-2*pi*r(j,1)*h1(j,1)-2*pi*r(j,2)*h2(j,1)-Rho(j,2)*Cp(j,2)*pi*(r(j,2)^2-r(j,1)^2)/delta_t;    % 计算钻杆壁面温度场大矩阵系数A\n",
    "                B(j,2)=2*lambda(j,2)*pi*(r(j,2)^2-r(j,1)^2)/((delta_z(j-1)+delta_z(j-1))*delta_z(j-1));                 % 计算钻杆壁面温度场大矩阵系数B\n",
    "                C(j,2)=2*lambda(j,2)*pi*(r(j,2)^2-r(j,1)^2)/((delta_z(j-1)+delta_z(j-1))*delta_z(j-1));                 % 计算钻杆壁面温度场大矩阵系数C\n",
    "                D(j,2)=2*pi*r(j,1)*h1(j,1);                                                                             % 计算钻杆壁面温度场大矩阵系数D\n",
    "                E(j,2)=2*pi*r(j,2)*h2(j,1);                                                                             % 计算钻杆壁面温度场大矩阵系数E\n",
    "                F(j,2)=-Rho(j,2)*Cp(j,2)*pi*(r(j,2)^2-r(j,1)^2)/delta_t;                                                % 计算钻杆壁面温度场大矩阵系数F\n",
    "\n",
    "                A(j,3)=-Rho(j,3)*q*Cp(j,3)/delta_z(j-1)-2*pi*r(j,2)*h2(j,1)-2*pi*r(j,3)*h3(j,1)-Rho(j,3)*Cp(j,3)*pi*(r(j,3)^2-r(j,2)^2)/delta_t;    % 计算环空内钻井液温度场大矩阵系数A\n",
    "                B(j,3)=0;                                                                                               % 计算环空内钻井液温度场大矩阵系数B\n",
    "                C(j,3)=Rho(j,3)*q*Cp(j,3)/delta_z(j-1);                                                                 % 计算环空内钻井液温度场大矩阵系数C\n",
    "                D(j,3)=2*pi*r(j,2)*h2(j,1);                                                                             % 计算环空内钻井液温度场大矩阵系数D\n",
    "                E(j,3)=2*pi*r(j,3)*h3(j,1);                                                                             % 计算环空内钻井液温度场大矩阵系数E\n",
    "                F(j,3)=-Rho(j,3)*Cp(j,3)*pi*(r(j,3)^2-r(j,2)^2)/delta_t;                                                % 计算环空内钻井液温度场大矩阵系数F\n",
    "\n",
    "                A(j,4)=-2*lambda(j,4)*pi*(r(j,4)^2-r(j,3)^2)/((delta_z(j-1)+delta_z(j-1))*delta_z(j-1))-2*lambda(j,4)*pi*(r(j,4)^2-r(j,3)^2)/((delta_z(j-1)+delta_z(j-1))*delta_z(j-1))-2*pi*r(j,3)*h3(j,1)-pi*(r(j,4)^2-r(j,3)^2)*log(r(j,5)/r(j,3))/(r(j,4)*(r(j,4)-r(j,3))*log(r(j,5)/r(j,4))*(log(r(j,4)/r(j,3))/lambda(j,4)+log(r(j,5)/r(j,4))/lambda(j,5)))-Rho(j,4)*Cp(j,4)*pi*(r(j,4)^2-r(j,3)^2)/delta_t;  % 计算第四层温度场大矩阵系数A\n",
    "                B(j,4)=2*lambda(j,4)*pi*(r(j,4)^2-r(j,3)^2)/((delta_z(j-1)+delta_z(j-1))*delta_z(j-1));                 % 计算第四层温度场大矩阵系数B\n",
    "                C(j,4)=2*lambda(j,4)*pi*(r(j,4)^2-r(j,3)^2)/((delta_z(j-1)+delta_z(j-1))*delta_z(j-1));                 % 计算第四层温度场大矩阵系数C\n",
    "                D(j,4)=2*pi*r(j,3)*h3(j,1);                                                                             % 计算第四层温度场大矩阵系数D\n",
    "                E(j,4)=pi*(r(j,4)^2-r(j,3)^2)*log(r(j,5)/r(j,3))/(r(j,4)*(r(j,4)-r(j,3))*log(r(j,5)/r(j,4))*(log(r(j,4)/r(j,3))/lambda(j,4)+log(r(j,5)/r(j,4))/lambda(j,5)));   % 计算第四层温度场大矩阵系数E\n",
    "                F(j,4)=-Rho(j,4)*Cp(j,4)*pi*(r(j,4)^2-r(j,3)^2)/delta_t;                                                % 计算第四层温度场大矩阵系数F\n",
    "            else    % 中间网格系数的计算\n",
    "                A(j,2)=-2*lambda(j,2)*pi*(r(j,2)^2-r(j,1)^2)/((delta_z(j-1)+delta_z(j))*delta_z(j))-2*lambda(j,2)*pi*(r(j,2)^2-r(j,1)^2)/((delta_z(j-1)+delta_z(j))*delta_z(j-1))-2*pi*r(j,1)*h1(j,1)-2*pi*r(j,2)*h2(j,1)-Rho(j,2)*Cp(j,2)*pi*(r(j,2)^2-r(j,1)^2)/delta_t;\n",
    "                B(j,2)=2*lambda(j,2)*pi*(r(j,2)^2-r(j,1)^2)/((delta_z(j-1)+delta_z(j))*delta_z(j-1));\n",
    "                C(j,2)=2*lambda(j,2)*pi*(r(j,2)^2-r(j,1)^2)/((delta_z(j-1)+delta_z(j))*delta_z(j));\n",
    "                D(j,2)=2*pi*r(j,1)*h1(j,1);\n",
    "                E(j,2)=2*pi*r(j,2)*h2(j,1);\n",
    "                F(j,2)=-Rho(j,2)*Cp(j,2)*pi*(r(j,2)^2-r(j,1)^2)/delta_t;\n",
    "\n",
    "                A(j,3)=-Rho(j,3)*q*Cp(j,3)/delta_z(j)-2*pi*r(j,2)*h2(j,1)-2*pi*r(j,3)*h3(j,1)-Rho(j,3)*Cp(j,3)*pi*(r(j,3)^2-r(j,2)^2)/delta_t;\n",
    "                B(j,3)=0;\n",
    "                C(j,3)=Rho(j,3)*q*Cp(j,3)/delta_z(j);\n",
    "                D(j,3)=2*pi*r(j,2)*h2(j,1);\n",
    "                E(j,3)=2*pi*r(j,3)*h3(j,1);\n",
    "                F(j,3)=-Rho(j,3)*Cp(j,3)*pi*(r(j,3)^2-r(j,2)^2)/delta_t;\n",
    "\n",
    "                A(j,4)=-2*lambda(j,4)*pi*(r(j,4)^2-r(j,3)^2)/((delta_z(j-1)+delta_z(j))*delta_z(j))-2*lambda(j,4)*pi*(r(j,4)^2-r(j,3)^2)/((delta_z(j-1)+delta_z(j))*delta_z(j-1))-2*pi*r(j,3)*h3(j,1)-pi*(r(j,4)^2-r(j,3)^2)*log(r(j,5)/r(j,3))/(r(j,4)*(r(j,4)-r(j,3))*log(r(j,5)/r(j,4))*(log(r(j,4)/r(j,3))/lambda(j,4)+log(r(j,5)/r(j,4))/lambda(j,5)))-Rho(j,4)*Cp(j,4)*pi*(r(j,4)^2-r(j,3)^2)/delta_t;\n",
    "                B(j,4)=2*lambda(j,4)*pi*(r(j,4)^2-r(j,3)^2)/((delta_z(j-1)+delta_z(j))*delta_z(j-1));\n",
    "                C(j,4)=2*lambda(j,4)*pi*(r(j,4)^2-r(j,3)^2)/((delta_z(j-1)+delta_z(j))*delta_z(j));\n",
    "                D(j,4)=2*pi*r(j,3)*h3(j,1);\n",
    "                E(j,4)=pi*(r(j,4)^2-r(j,3)^2)*log(r(j,5)/r(j,3))/(r(j,4)*(r(j,4)-r(j,3))*log(r(j,5)/r(j,4))*(log(r(j,4)/r(j,3))/lambda(j,4)+log(r(j,5)/r(j,4))/lambda(j,5)));\n",
    "                F(j,4)=-Rho(j,4)*Cp(j,4)*pi*(r(j,4)^2-r(j,3)^2)/delta_t;\n",
    "            end\n",
    "        end\n",
    "    end\n",
    "\n",
    "    for i=5:nobox_r     % 径向第5层及之后各层的系数计算\n",
    "        for j=1:nobox_z\n",
    "            if j==1     % 井口网格系数的计算\n",
    "                A(j,i)=-log(r(j,i)/r(j,i-2))/(r(j,i)*(r(j,i)-r(j,i-1))*log(r(j,i)/r(j,i-1))*(log(r(j,i-1)/r(j,i-2))/lambda(j,i-1)+log(r(j,i)/r(j,i-1))/lambda(j,i)))-log(r(j,i+1)/r(j,i-1))/(r(j,i)*(r(j,i)-r(j,i-1))*log(r(j,i+1)/r(j,i))*(log(r(j,i)/r(j,i-1))/lambda(j,i)+log(r(j,i+1)/r(j,i))/lambda(j,i+1)))-2*lambda(j,i)/((delta_z(j)+delta_z(j))*delta_z(j))-2*lambda(j,i)/((delta_z(j)+delta_z(j))*delta_z(j))-Rho(j,i)*Cp(j,i)/delta_t;\n",
    "                B(j,i)=2*lambda(j,i)/((delta_z(j)+delta_z(j))*delta_z(j));\n",
    "                C(j,i)=2*lambda(j,i)/((delta_z(j)+delta_z(j))*delta_z(j));\n",
    "                D(j,i)=log(r(j,i)/r(j,i-2))/(r(j,i)*(r(j,i)-r(j,i-1))*log(r(j,i)/r(j,i-1))*(log(r(j,i-1)/r(j,i-2))/lambda(j,i-1)+log(r(j,i)/r(j,i-1))/lambda(j,i)));\n",
    "                E(j,i)=log(r(j,i+1)/r(j,i-1))/(r(j,i)*(r(j,i)-r(j,i-1))*log(r(j,i+1)/r(j,i))*(log(r(j,i)/r(j,i-1))/lambda(j,i)+log(r(j,i+1)/r(j,i))/lambda(j,i+1)));\n",
    "                F(j,i)=-Rho(j,i)*Cp(j,i)/delta_t;\n",
    "            elseif j==nobox_z       % 井底网格系数的计算\n",
    "                A(j,i)=-log(r(j,i)/r(j,i-2))/(r(j,i)*(r(j,i)-r(j,i-1))*log(r(j,i)/r(j,i-1))*(log(r(j,i-1)/r(j,i-2))/lambda(j,i-1)+log(r(j,i)/r(j,i-1))/lambda(j,i)))-log(r(j,i+1)/r(j,i-1))/(r(j,i)*(r(j,i)-r(j,i-1))*log(r(j,i+1)/r(j,i))*(log(r(j,i)/r(j,i-1))/lambda(j,i)+log(r(j,i+1)/r(j,i))/lambda(j,i+1)))-2*lambda(j,i)/((delta_z(j-1)+delta_z(j-1))*delta_z(j-1))-2*lambda(j,i)/((delta_z(j-1)+delta_z(j-1))*delta_z(j-1))-Rho(j,i)*Cp(j,i)/delta_t;\n",
    "                B(j,i)=2*lambda(j,i)/((delta_z(j-1)+delta_z(j-1))*delta_z(j-1));\n",
    "                C(j,i)=2*lambda(j,i)/((delta_z(j-1)+delta_z(j-1))*delta_z(j-1));\n",
    "                D(j,i)=log(r(j,i)/r(j,i-2))/(r(j,i)*(r(j,i)-r(j,i-1))*log(r(j,i)/r(j,i-1))*(log(r(j,i-1)/r(j,i-2))/lambda(j,i-1)+log(r(j,i)/r(j,i-1))/lambda(j,i)));\n",
    "                E(j,i)=log(r(j,i+1)/r(j,i-1))/(r(j,i)*(r(j,i)-r(j,i-1))*log(r(j,i+1)/r(j,i))*(log(r(j,i)/r(j,i-1))/lambda(j,i)+log(r(j,i+1)/r(j,i))/lambda(j,i+1)));\n",
    "                F(j,i)=-Rho(j,i)*Cp(j,i)/delta_t;\n",
    "            else        % 中间网格系数的计算\n",
    "                A(j,i)=-log(r(j,i)/r(j,i-2))/(r(j,i)*(r(j,i)-r(j,i-1))*log(r(j,i)/r(j,i-1))*(log(r(j,i-1)/r(j,i-2))/lambda(j,i-1)+log(r(j,i)/r(j,i-1))/lambda(j,i)))-log(r(j,i+1)/r(j,i-1))/(r(j,i)*(r(j,i)-r(j,i-1))*log(r(j,i+1)/r(j,i))*(log(r(j,i)/r(j,i-1))/lambda(j,i)+log(r(j,i+1)/r(j,i))/lambda(j,i+1)))-2*lambda(j,i)/((delta_z(j-1)+delta_z(j))*delta_z(j))-2*lambda(j,i)/((delta_z(j-1)+delta_z(j))*delta_z(j-1))-Rho(j,i)*Cp(j,i)/delta_t;\n",
    "                B(j,i)=2*lambda(j,i)/((delta_z(j-1)+delta_z(j))*delta_z(j-1));\n",
    "                C(j,i)=2*lambda(j,i)/((delta_z(j-1)+delta_z(j))*delta_z(j));\n",
    "                D(j,i)=log(r(j,i)/r(j,i-2))/(r(j,i)*(r(j,i)-r(j,i-1))*log(r(j,i)/r(j,i-1))*(log(r(j,i-1)/r(j,i-2))/lambda(j,i-1)+log(r(j,i)/r(j,i-1))/lambda(j,i)));\n",
    "                E(j,i)=log(r(j,i+1)/r(j,i-1))/(r(j,i)*(r(j,i)-r(j,i-1))*log(r(j,i+1)/r(j,i))*(log(r(j,i)/r(j,i-1))/lambda(j,i)+log(r(j,i+1)/r(j,i))/lambda(j,i+1)));\n",
    "                F(j,i)=-Rho(j,i)*Cp(j,i)/delta_t;\n",
    "            end\n",
    "        end\n",
    "    end\n",
    "\n",
    "    A99=zeros(nobox_r*nobox_z,1);   % 系数矩阵A存储在向量A99中\n",
    "    B99=zeros(nobox_r*nobox_z,1);   % 系数矩阵B存储在向量B99中\n",
    "    C99=zeros(nobox_r*nobox_z,1);   % 系数矩阵C存储在向量C99中\n",
    "    D99=zeros(nobox_r*nobox_z,1);   % 系数矩阵D存储在向量D99中\n",
    "    E99=zeros(nobox_r*nobox_z,1);   % 系数矩阵E存储在向量E99中\n",
    "    F99=zeros(nobox_r*nobox_z,1);   % 系数矩阵F存储在向量F99中\n",
    "\n",
    "    % 系数矩阵A存储在向量A99中\n",
    "    A99(1:nobox_z)=A(:,1);\n",
    "    A99(nobox_z+1)=A(1,2)+B(1,2);\n",
    "    A99(nobox_z+2:2*nobox_z-1)=A(2:nobox_z-1,2);\n",
    "    A99(2*nobox_z)=A(nobox_z,2)+C(nobox_z,2);\n",
    "    A99(2*nobox_z+1:3*nobox_z-1)=A(1:nobox_z-1,3);\n",
    "    A99(3*nobox_z)=A(nobox_z,3)+C(nobox_z,3);\n",
    "    for i=4:nobox_r\n",
    "        A99((i-1)*nobox_z+1)=A(1,i)+B(1,i);\n",
    "        A99((i-1)*nobox_z+2:i*nobox_z-1)=A(2:nobox_z-1,i);\n",
    "        A99(i*nobox_z)=A(nobox_z,i)+C(nobox_z,i);\n",
    "    end\n",
    "\n",
    "    % 系数矩阵B、C、D、E、F存储在向量B99、C99、D99、E99、F99中\n",
    "    for i=1:nobox_r\n",
    "        B99((i-1)*nobox_z+1:i*nobox_z)=B(:,i);\n",
    "        C99((i-1)*nobox_z+1:i*nobox_z)=C(:,i);\n",
    "        D99((i-1)*nobox_z+1:i*nobox_z)=D(:,i);\n",
    "        E99((i-1)*nobox_z+1:i*nobox_z)=E(:,i);\n",
    "        F99((i-1)*nobox_z+1:i*nobox_z)=F(:,i);\n",
    "    end\n",
    "\n",
    "    %% 给温度场向量赋初值\n",
    "    X=zeros(nobox_r*nobox_z,1);     % 温度场向量\n",
    "    % 钻杆内钻井液、钻杆壁、环空内钻井液温度\n",
    "    X(1)=Tm0;           % 井口温度为钻井液注入温度\n",
    "    X(1+nobox_z)=Tm0;   % 井口温度为钻井液注入温度\n",
    "    X(1+2*nobox_z)=Tm0; % 井口温度为钻井液注入温度\n",
    "    for j=2:nobox_z\n",
    "        X(j)=X(j-1)+delta_z(j-1)*Tfg;                       % 钻杆内钻井液温度以地温梯度增加\n",
    "        X(j+nobox_z)=X(j+nobox_z-1)+delta_z(j-1)*Tfg;       % 钻杆壁温度以地温梯度增加\n",
    "        X(j+2*nobox_z)=X(j+2*nobox_z-1)+delta_z(j-1)*Tfg;   % 环空内钻井液温度以地层梯度增加\n",
    "    end\n",
    "\n",
    "    for i=4:nobox_r     % 第4层及之后各层温度初值\n",
    "        X((i-1)*nobox_z+1)=Tf0; % 井口温度为地表温度\n",
    "        for j=2:nobox_z\n",
    "            X((i-1)*nobox_z+j)=X((i-1)*nobox_z+j-1)+delta_z(j-1)*Tfg;   % 温度以地温梯度增加\n",
    "        end \n",
    "    end\n",
    "\n",
    "    Tf=zeros(nobox_z,1);    % 原始地层温度\n",
    "    Tf(1)=Tf0;              % 井口温度为地表温度\n",
    "    for j=2:nobox_z\n",
    "        Tf(j)=Tf(j-1)+delta_z(j-1)*Tfg; % 温度以地温梯度增加\n",
    "    end\n",
    "\n",
    "    X0=zeros(nobox_r*nobox_z,1);    % 存储每次计算的温度场，对比迭代温度场的差值\n",
    "    BC=zeros(nobox_r*nobox_z,1);    % 温度控制方程的右端项向量\n",
    "    X1=zeros(nobox_r*nobox_z,timesteps);\t% 存储每一个时间步计算的温度场\n",
    "\n",
    "    % nt=1;\n",
    "    for nt=1:timesteps\n",
    "\n",
    "        %% 温度控制方程的右端项向量计算\n",
    "        BC(1)=-B99(1)*Tm0+F99(1)*X(1);\n",
    "        for i=2:(nobox_r-1)*nobox_z\n",
    "            BC(i)=F99(i)*X(i);\n",
    "        end\n",
    "        for i=(nobox_r-1)*nobox_z+1:nobox_r*nobox_z\n",
    "            BC(i)=F99(i)*X(i)-E99(i)*Tf(i-(nobox_r-1)*nobox_z);\n",
    "        end\n",
    "\n",
    "        max1=1;         % 迭代误差初值，为了进入循环\n",
    "        err=0.001;      % 迭代误差限\n",
    "        k=0;            % 迭代步数计数器\n",
    "\n",
    "        while max1>err\n",
    "            k=k+1;\n",
    "            max1=0;     % 进入循环后，max1赋值为0，这样后面得到的max1为迭代过程中得到的\n",
    "\n",
    "            X0=X;       % 将X赋值给X0存储\n",
    "\n",
    "            %% 计算新的X\n",
    "            X(1)=(BC(1)-E99(1)*X(1+nobox_z))/A99(1);\n",
    "            for j=2:nobox_z\n",
    "                X(j)=(BC(j)-B99(j)*X(j-1)-E99(j)*X(j+nobox_z))/A99(j);\n",
    "            end\n",
    "\n",
    "            X(2*nobox_z)=X(nobox_z);\n",
    "            for j=2*nobox_z-1:-1:nobox_z+2\n",
    "                X(j)=(BC(j)-B99(j)*X(j-1)-C99(j)*X(j+1)-D99(j)*X(j-nobox_z)-E99(j)*X(j+nobox_z))/A99(j);\n",
    "            end\n",
    "            X(nobox_z+1)=(BC(nobox_z+1)-C99(nobox_z+1)*X(nobox_z+2)-D99(nobox_z+1)*X(1)-E99(nobox_z+1)*X(2*nobox_z+1))/A99(nobox_z+1);\n",
    "\n",
    "            X(3*nobox_z)=X(nobox_z);\n",
    "            for j=3*nobox_z-1:-1:2*nobox_z+1\n",
    "                X(j)=(BC(j)-C99(j)*X(j+1)-D99(j)*X(j-nobox_z)-E99(j)*X(j+nobox_z))/A99(j);\n",
    "            end\n",
    "\n",
    "            for i=4:nobox_r-1\n",
    "                X((i-1)*nobox_z+1)=(BC((i-1)*nobox_z+1)-C99((i-1)*nobox_z+1)*X((i-1)*nobox_z+2)-D99((i-1)*nobox_z+1)*X((i-2)*nobox_z+1)-E99((i-1)*nobox_z+1)*X(i*nobox_z+1))/A99((i-1)*nobox_z+1);\n",
    "                for j=(i-1)*nobox_z+2:i*nobox_z-1\n",
    "                    X(j)=(BC(j)-B99(j)*X(j-1)-C99(j)*X(j+1)-D99(j)*X(j-nobox_z)-E99(j)*X(j+nobox_z))/A99(j);\n",
    "                end\n",
    "                X(i*nobox_z)=(BC(i*nobox_z)-B99(i*nobox_z)*X(i*nobox_z-1)-D99(i*nobox_z)*X((i-1)*nobox_z)-E99(i*nobox_z)*X((i+1)*nobox_z))/A99(i*nobox_z);\n",
    "            end\n",
    "\n",
    "            X((nobox_r-1)*nobox_z+1)=(BC((nobox_r-1)*nobox_z+1)-C99((nobox_r-1)*nobox_z+1)*X((nobox_r-1)*nobox_z+2)-D99((nobox_r-1)*nobox_z+1)*X((nobox_r-2)*nobox_z+1))/A99((nobox_r-1)*nobox_z+1);\n",
    "            for j=(nobox_r-1)*nobox_z+2:nobox_r*nobox_z-1\n",
    "                X(j)=(BC(j)-B99(j)*X(j-1)-C99(j)*X(j+1)-D99(j)*X(j-nobox_z))/A99(j);\n",
    "            end\n",
    "            X(nobox_r*nobox_z)=(BC(nobox_r*nobox_z)-B99(nobox_r*nobox_z)*X(nobox_r*nobox_z-1)-D99(nobox_r*nobox_z)*X((nobox_r-1)*nobox_z))/A99(nobox_r*nobox_z);\n",
    "\n",
    "            %% 对比新计算的X与迭代前的X之间的误差，并得到最大误差值\n",
    "            for i=1:nobox_r*nobox_z\n",
    "                m=abs(X0(i)-X(i));\n",
    "                if m>max1\n",
    "                    max1=m;\n",
    "                end\n",
    "            end\n",
    "        end\n",
    "        X1(1:nobox_r*nobox_z,nt)=X(1:nobox_r*nobox_z);          % 将当前时间步计算收敛得到的温度场赋值给X1\n",
    "        T_Drillpipe(1:nobox_z,nt)=X1(1:nobox_z,nt);             % 从X1中提取出钻杆内钻井液温度\n",
    "        T_Annulus(1:nobox_z,nt)=X1(2*nobox_z+1:3*nobox_z,nt);   % 从X1中提取出环空内钻井液温度\n",
    "        nt\n",
    "    end\n",
    "else\n",
    "    \n",
    "    for j=1:nobox_z\n",
    "        if Depth(j)<Depth_weiguan\n",
    "            Rho(j,4)=rou_m;\n",
    "            Cp(j,4)=Cpm;\n",
    "            lambda(j,4)=lambdam;\n",
    "            Rho(j,5)=rou_m;\n",
    "            Cp(j,5)=Cpm;\n",
    "            lambda(j,5)=lambdam;\n",
    "        else\n",
    "            Rho(j,4)=rou_s;\n",
    "            Cp(j,4)=Cps;\n",
    "            lambda(j,4)=lambdas;\n",
    "            Rho(j,5)=rou_c;\n",
    "            Cp(j,5)=Cpc;\n",
    "            lambda(j,5)=lambdac;\n",
    "        end\n",
    "    end\n",
    "    \n",
    "    if casing_number==0\n",
    "        Rho(:,6:nobox_r)=rou_f;\n",
    "        Cp(:,6:nobox_r)=Cpf;\n",
    "        lambda(:,6:nobox_r)=lambdaf;\n",
    "    else\n",
    "        for i=1:casing_number\n",
    "            for j=1:nobox_z\n",
    "                if Depth(j)<Depth_casing(i)\n",
    "                    Rho(j,5+2*i-1)=rou_s;\n",
    "                    Cp(j,5+2*i-1)=Cps;\n",
    "                    lambda(j,5+2*i-1)=lambdas;\n",
    "                elseif Depth(j)>=Depth_casing(i) & Depth(j)<=welldepth\n",
    "                    Rho(j,5+2*i-1)=rou_f;\n",
    "                    Cp(j,5+2*i-1)=Cpf;\n",
    "                    lambda(j,5+2*i-1)=lambdaf;\n",
    "                end\n",
    "                \n",
    "                if Depth(j)<Depth_fluid(i)\n",
    "                    Rho(j,5+2*i)=rou_m;\n",
    "                    Cp(j,5+2*i)=Cpm;\n",
    "                    lambda(j,5+2*i)=lambdam;\n",
    "                elseif Depth(j)>=Depth_fluid(i) & Depth(j)<Depth_casing(i)\n",
    "                    Rho(j,5+2*i)=rou_c;\n",
    "                    Cp(j,5+2*i)=Cpc;\n",
    "                    lambda(j,5+2*i)=lambdac;\n",
    "                elseif Depth(j)>=Depth_casing(i) & Depth(j)<=welldepth\n",
    "                    Rho(j,5+2*i)=rou_f;\n",
    "                    Cp(j,5+2*i)=Cpf;\n",
    "                    lambda(j,5+2*i)=lambdaf;\n",
    "                end\n",
    "            end\n",
    "        end\n",
    "        for i=5+2*casing_number+1:nobox_r\n",
    "            for j=1:nobox_z\n",
    "                Rho(j,i)=rou_f;\n",
    "                Cp(j,i)=Cpf;\n",
    "                lambda(j,i)=lambdaf;\n",
    "            end\n",
    "        end\n",
    "    end\n",
    "    \n",
    "    if Rheology_type==1\n",
    "        Re_drillpipe=Rho(:,1).*V_drillpipe.*(2*r(:,1))./miu_m;                  % 钻杆内雷诺数\n",
    "        h_drillpipe=0.027.*lambda(:,1).*Re_drillpipe.^0.8.*(miu_drillpipe.*Cp(:,1)./lambda(:,1)).^0.4./(2*r(:,1))/5;        % 钻井液与钻杆内壁对流换热系数，W/(m^2·℃）   \n",
    "        Re_annulus=zeros(nobox_z,1);\n",
    "        h_annulus=zeros(nobox_z,1);\n",
    "        for j=1:nobox_z\n",
    "            if Depth(j)<Depth_weiguan\n",
    "                Re_annulus(j)=Rho(j,3)*V_annulus(j)*(2*(r(j,5)-r(j,2)))/miu_m;              % 环空内雷诺数\n",
    "                h_annulus(j)=0.027*lambda(j,3)*Re_annulus(j)^0.8*(miu_drillpipe(j)*Cp(j,3)/lambda(j,3))^0.4/(2*(r(j,5)-r(j,2)))/5;\t% 钻井液与钻杆外壁对流换热系数，W/(m^2·℃）\n",
    "            else\n",
    "                Re_annulus(j)=Rho(j,3)*V_annulus(j)*(2*(r(j,3)-r(j,2)))/miu_m;              % 环空内雷诺数\n",
    "                h_annulus(j)=0.027*lambda(j,3)*Re_annulus(j)^0.8*(miu_drillpipe(j)*Cp(j,3)/lambda(j,3))^0.4/(2*(r(j,3)-r(j,2)))/5;\t% 钻井液与钻杆外壁对流换热系数，W/(m^2·℃）\n",
    "            end\n",
    "        end\n",
    "    elseif Rheology_type==2\n",
    "        Re_drillpipe=Rho(:,1).*V_drillpipe.^(2-n_power).*(2*r(:,1)).^n_power./(8^(n_power-1).*K_power.*((1+3*n_power)./(4*n_power)).^n_power);                  % 钻杆内雷诺数\n",
    "        delta_correct=(3*n_power+1)/(4*n_power);\n",
    "        h_drillpipe=0.091*Re_drillpipe.^0.87.*(miu_drillpipe.*Cp(:,1)./lambda(:,1)).^(1/3)*delta_correct./(2*r(:,1))/5;\n",
    "        Re_annulus=zeros(nobox_z,1);\n",
    "        h_annulus=zeros(nobox_z,1);\n",
    "        for j=1:nobox_z\n",
    "            if Depth(j)<Depth_weiguan\n",
    "                Re_annulus(j)=Rho(j,3)*V_annulus(j)^(2-n_power)*(2*(r(j,5)-r(j,2)))^n_power/(8^(n_power-1)*K_power*((1+3*n_power)/(4*n_power))^n_power);              % 环空内雷诺数\n",
    "                h_annulus(j)=0.091*Re_annulus(j)^0.87*(miu_annulus(j)*Cp(j,3)./lambda(j,3))^(1/3)*delta_correct/(2*(r(j,5)-r(j,2)))/5;\n",
    "            else\n",
    "                Re_annulus(j)=Rho(j,3)*V_annulus(j)^(2-n_power)*(2*(r(j,3)-r(j,2)))^n_power/(8^(n_power-1)*K_power*((1+3*n_power)/(4*n_power))^n_power);              % 环空内雷诺数\n",
    "                h_annulus(j)=0.091*Re_annulus(j)^0.87*(miu_annulus(j)*Cp(j,3)./lambda(j,3))^(1/3)*delta_correct/(2*(r(j,3)-r(j,2)))/5;\t% 钻井液与钻杆外壁对流换热系数，W/(m^2·℃）\n",
    "            end\n",
    "        end\n",
    "    elseif Rheology_type==3\n",
    "        Re_drillpipe=Rho(:,1).*V_drillpipe.*(2*r(:,1))./mu_p;                  % 钻杆内雷诺数\n",
    "        h_drillpipe=0.027.*lambda(:,1).*Re_drillpipe.^0.8.*(miu_drillpipe.*Cp(:,1)./lambda(:,1)).^0.4./(2*r(:,1))/5;        % 钻井液与钻杆内壁对流换热系数，W/(m^2·℃）   \n",
    "        Re_annulus=zeros(nobox_z,1);\n",
    "        h_annulus=zeros(nobox_z,1);\n",
    "        for j=1:nobox_z\n",
    "            if Depth(j)<Depth_weiguan\n",
    "                Re_annulus(j)=Rho(j,3)*V_annulus(j)*(2*(r(j,5)-r(j,2)))/mu_p;              % 环空内雷诺数\n",
    "                h_annulus(j)=0.027*lambda(j,3)*Re_annulus(j)^0.8*(miu_drillpipe(j)*Cp(j,3)/lambda(j,3))^0.4/(2*(r(j,5)-r(j,2)))/5;\t% 钻井液与钻杆外壁对流换热系数，W/(m^2·℃）\n",
    "            else\n",
    "                Re_annulus(j)=Rho(j,3)*V_annulus(j)*(2*(r(j,3)-r(j,2)))/mu_p;              % 环空内雷诺数\n",
    "                h_annulus(j)=0.027*lambda(j,3)*Re_annulus(j)^0.8*(miu_drillpipe(j)*Cp(j,3)/lambda(j,3))^0.4/(2*(r(j,3)-r(j,2)))/5;\t% 钻井液与钻杆外壁对流换热系数，W/(m^2·℃）\n",
    "            end\n",
    "        end\n",
    "    elseif Rheology_type==4\n",
    "        Re_drillpipe=Rho(:,1).*V_drillpipe.^(2-n_hb).*(2*r(:,1)).^n_hb./(8^(n_hb-1).*K_hb.*((1+3*n_hb)./(4*n_hb)).^n_hb);                  % 钻杆内雷诺数\n",
    "        delta_correct=(3*n_hb+1)/(4*n_hb);\n",
    "        h_drillpipe=0.091*Re_drillpipe.^0.87.*(miu_drillpipe.*Cp(:,1)./lambda(:,1)).^(1/3)*delta_correct./(2*r(:,1))/5;\n",
    "        Re_annulus=zeros(nobox_z,1);\n",
    "        h_annulus=zeros(nobox_z,1);\n",
    "        for j=1:nobox_z\n",
    "            if Depth(j)<Depth_weiguan\n",
    "                Re_annulus(j)=Rho(j,3)*V_annulus(j)^(2-n_hb)*(2*(r(j,5)-r(j,2)))^n_hb/(8^(n_hb-1)*K_hb*((1+3*n_hb)/(4*n_hb))^n_hb);              % 环空内雷诺数\n",
    "                h_annulus(j)=0.091*Re_annulus(j)^0.87*(miu_annulus(j)*Cp(j,3)./lambda(j,3))^(1/3)*delta_correct/(2*(r(j,5)-r(j,2)))/5;\n",
    "            else\n",
    "                Re_annulus(j)=Rho(j,3)*V_annulus(j)^(2-n_hb)*(2*(r(j,3)-r(j,2)))^n_hb/(8^(n_hb-1)*K_hb*((1+3*n_hb)/(4*n_hb))^n_hb);              % 环空内雷诺数\n",
    "                h_annulus(j)=0.091*Re_annulus(j)^0.87*(miu_annulus(j)*Cp(j,3)./lambda(j,3))^(1/3)*delta_correct/(2*(r(j,3)-r(j,2)))/5;\t% 钻井液与钻杆外壁对流换热系数，W/(m^2·℃）\n",
    "            end\n",
    "        end\n",
    "    end\n",
    "    h1=h_drillpipe;                                                                                                     % 钻井液与钻杆内壁对流换热系数，W/(m^2·℃）    \n",
    "    h2=h_annulus;                                                                                                       % 钻井液与钻杆外壁对流换热系数，W/(m^2·℃）\n",
    "    h3=h_annulus;                                                                                                       % 钻井液与井筒内壁对流换热系数，W/(m^2·℃）\n",
    "\n",
    "    %% 系数矩阵计算\n",
    "    A=zeros(nobox_z,nobox_r);   % 系数矩阵A\n",
    "    B=zeros(nobox_z,nobox_r);   % 系数矩阵B\n",
    "    C=zeros(nobox_z,nobox_r);   % 系数矩阵C\n",
    "    D=zeros(nobox_z,nobox_r);   % 系数矩阵D\n",
    "    E=zeros(nobox_z,nobox_r);   % 系数矩阵E\n",
    "    F=zeros(nobox_z,nobox_r);   % 系数矩阵F\n",
    "    \n",
    "    for j=1:nobox_z\n",
    "        if j==1     % 井口网格系数的计算\n",
    "            A(j,1)=-Rho(j,1)*q*Cp(j,1)/delta_z(j)-2*pi*r(j,1)*h1(j,1)-Rho(j,1)*Cp(j,1)*pi*r(j,1)^2/delta_t;\n",
    "            B(j,1)=Rho(j,1)*q*Cp(j,1)/delta_z(j);\n",
    "            C(j,1)=0;\n",
    "            D(j,1)=0;\n",
    "            E(j,1)=2*pi*r(j,1)*h1(j,1);\n",
    "            F(j,1)=-Rho(j,1)*Cp(j,1)*pi*r(j,1)^2/delta_t;\n",
    "\n",
    "            A(j,2)=-2*lambda(j,2)*pi*(r(j,2)^2-r(j,1)^2)/((delta_z(j)+delta_z(j))*delta_z(j))-2*lambda(j,2)*pi*(r(j,2)^2-r(j,1)^2)/((delta_z(j)+delta_z(j))*delta_z(j))-2*pi*r(j,1)*h1(j,1)-2*pi*r(j,2)*h2(j,1)-Rho(j,2)*Cp(j,2)*pi*(r(j,2)^2-r(j,1)^2)/delta_t;\n",
    "            B(j,2)=2*lambda(j,2)*pi*(r(j,2)^2-r(j,1)^2)/((delta_z(j)+delta_z(j))*delta_z(j));\n",
    "            C(j,2)=2*lambda(j,2)*pi*(r(j,2)^2-r(j,1)^2)/((delta_z(j)+delta_z(j))*delta_z(j));\n",
    "            D(j,2)=2*pi*r(j,1)*h1(j,1);\n",
    "            E(j,2)=2*pi*r(j,2)*h2(j,1);\n",
    "            F(j,2)=-Rho(j,2)*Cp(j,2)*pi*(r(j,2)^2-r(j,1)^2)/delta_t;\n",
    "\n",
    "            A(j,3)=-Rho(j,3)*q*Cp(j,3)/delta_z(j)-2*pi*r(j,2)*h2(j,1)-2*pi*r(j,3)*h3(j,1)-Rho(j,3)*Cp(j,3)*pi*(r(j,3)^2-r(j,2)^2)/delta_t;\n",
    "            B(j,3)=0;\n",
    "            C(j,3)=Rho(j,3)*q*Cp(j,3)/delta_z(j);\n",
    "            D(j,3)=2*pi*r(j,2)*h2(j,1);\n",
    "            E(j,3)=2*pi*r(j,3)*h3(j,1);\n",
    "            F(j,3)=-Rho(j,3)*Cp(j,3)*pi*(r(j,3)^2-r(j,2)^2)/delta_t;\n",
    "\n",
    "            A(j,4)=-2*lambda(j,4)*pi*(r(j,4)^2-r(j,3)^2)/((delta_z(j)+delta_z(j))*delta_z(j))-2*lambda(j,4)*pi*(r(j,4)^2-r(j,3)^2)/((delta_z(j)+delta_z(j))*delta_z(j))-2*pi*r(j,3)*h3(j,1)-pi*(r(j,4)^2-r(j,3)^2)*log(r(j,5)/r(j,3))/(r(j,4)*(r(j,4)-r(j,3))*log(r(j,5)/r(j,4))*(log(r(j,4)/r(j,3))/lambda(j,4)+log(r(j,5)/r(j,4))/lambda(j,5)))-Rho(j,4)*Cp(j,4)*pi*(r(j,4)^2-r(j,3)^2)/delta_t;\n",
    "            B(j,4)=2*lambda(j,4)*pi*(r(j,4)^2-r(j,3)^2)/((delta_z(j)+delta_z(j))*delta_z(j));\n",
    "            C(j,4)=2*lambda(j,4)*pi*(r(j,4)^2-r(j,3)^2)/((delta_z(j)+delta_z(j))*delta_z(j));\n",
    "            D(j,4)=2*pi*r(j,3)*h3(j,1);\n",
    "            E(j,4)=pi*(r(j,4)^2-r(j,3)^2)*log(r(j,5)/r(j,3))/(r(j,4)*(r(j,4)-r(j,3))*log(r(j,5)/r(j,4))*(log(r(j,4)/r(j,3))/lambda(j,4)+log(r(j,5)/r(j,4))/lambda(j,5)));\n",
    "            F(j,4)=-Rho(j,4)*Cp(j,4)*pi*(r(j,4)^2-r(j,3)^2)/delta_t;\n",
    "        else\n",
    "            A(j,1)=-Rho(j,1)*q*Cp(j,1)/delta_z(j-1)-2*pi*r(j,1)*h1(j,1)-Rho(j,1)*Cp(j,1)*pi*r(j,1)^2/delta_t;\n",
    "            B(j,1)=Rho(j,1)*q*Cp(j,1)/delta_z(j-1);\n",
    "            C(j,1)=0;\n",
    "            D(j,1)=0;\n",
    "            E(j,1)=2*pi*r(j,1)*h1(j,1);\n",
    "            F(j,1)=-Rho(j,1)*Cp(j,1)*pi*r(j,1)^2/delta_t;\n",
    "\n",
    "            if j==nobox_z   % 井底网格系数的计算\n",
    "                A(j,2)=-2*lambda(j,2)*pi*(r(j,2)^2-r(j,1)^2)/((delta_z(j-1)+delta_z(j-1))*delta_z(j-1))-2*lambda(j,2)*pi*(r(j,2)^2-r(j,1)^2)/((delta_z(j-1)+delta_z(j-1))*delta_z(j-1))-2*pi*r(j,1)*h1(j,1)-2*pi*r(j,2)*h2(j,1)-Rho(j,2)*Cp(j,2)*pi*(r(j,2)^2-r(j,1)^2)/delta_t;\n",
    "                B(j,2)=2*lambda(j,2)*pi*(r(j,2)^2-r(j,1)^2)/((delta_z(j-1)+delta_z(j-1))*delta_z(j-1));\n",
    "                C(j,2)=2*lambda(j,2)*pi*(r(j,2)^2-r(j,1)^2)/((delta_z(j-1)+delta_z(j-1))*delta_z(j-1));\n",
    "                D(j,2)=2*pi*r(j,1)*h1(j,1);\n",
    "                E(j,2)=2*pi*r(j,2)*h2(j,1);\n",
    "                F(j,2)=-Rho(j,2)*Cp(j,2)*pi*(r(j,2)^2-r(j,1)^2)/delta_t;\n",
    "\n",
    "                A(j,3)=-Rho(j,3)*q*Cp(j,3)/delta_z(j-1)-2*pi*r(j,2)*h2(j,1)-2*pi*r(j,3)*h3(j,1)-Rho(j,3)*Cp(j,3)*pi*(r(j,3)^2-r(j,2)^2)/delta_t;\n",
    "                B(j,3)=0;\n",
    "                C(j,3)=Rho(j,3)*q*Cp(j,3)/delta_z(j-1);\n",
    "                D(j,3)=2*pi*r(j,2)*h2(j,1);\n",
    "                E(j,3)=2*pi*r(j,3)*h3(j,1);\n",
    "                F(j,3)=-Rho(j,3)*Cp(j,3)*pi*(r(j,3)^2-r(j,2)^2)/delta_t;\n",
    "\n",
    "                A(j,4)=-2*lambda(j,4)*pi*(r(j,4)^2-r(j,3)^2)/((delta_z(j-1)+delta_z(j-1))*delta_z(j-1))-2*lambda(j,4)*pi*(r(j,4)^2-r(j,3)^2)/((delta_z(j-1)+delta_z(j-1))*delta_z(j-1))-2*pi*r(j,3)*h3(j,1)-pi*(r(j,4)^2-r(j,3)^2)*log(r(j,5)/r(j,3))/(r(j,4)*(r(j,4)-r(j,3))*log(r(j,5)/r(j,4))*(log(r(j,4)/r(j,3))/lambda(j,4)+log(r(j,5)/r(j,4))/lambda(j,5)))-Rho(j,4)*Cp(j,4)*pi*(r(j,4)^2-r(j,3)^2)/delta_t;\n",
    "                B(j,4)=2*lambda(j,4)*pi*(r(j,4)^2-r(j,3)^2)/((delta_z(j-1)+delta_z(j-1))*delta_z(j-1));\n",
    "                C(j,4)=2*lambda(j,4)*pi*(r(j,4)^2-r(j,3)^2)/((delta_z(j-1)+delta_z(j-1))*delta_z(j-1));\n",
    "                D(j,4)=2*pi*r(j,3)*h3(j,1);\n",
    "                E(j,4)=pi*(r(j,4)^2-r(j,3)^2)*log(r(j,5)/r(j,3))/(r(j,4)*(r(j,4)-r(j,3))*log(r(j,5)/r(j,4))*(log(r(j,4)/r(j,3))/lambda(j,4)+log(r(j,5)/r(j,4))/lambda(j,5)));\n",
    "                F(j,4)=-Rho(j,4)*Cp(j,4)*pi*(r(j,4)^2-r(j,3)^2)/delta_t;\n",
    "            else    % 中间网格系数的计算\n",
    "                A(j,2)=-2*lambda(j,2)*pi*(r(j,2)^2-r(j,1)^2)/((delta_z(j-1)+delta_z(j))*delta_z(j))-2*lambda(j,2)*pi*(r(j,2)^2-r(j,1)^2)/((delta_z(j-1)+delta_z(j))*delta_z(j-1))-2*pi*r(j,1)*h1(j,1)-2*pi*r(j,2)*h2(j,1)-Rho(j,2)*Cp(j,2)*pi*(r(j,2)^2-r(j,1)^2)/delta_t;\n",
    "                B(j,2)=2*lambda(j,2)*pi*(r(j,2)^2-r(j,1)^2)/((delta_z(j-1)+delta_z(j))*delta_z(j-1));\n",
    "                C(j,2)=2*lambda(j,2)*pi*(r(j,2)^2-r(j,1)^2)/((delta_z(j-1)+delta_z(j))*delta_z(j));\n",
    "                D(j,2)=2*pi*r(j,1)*h1(j,1);\n",
    "                E(j,2)=2*pi*r(j,2)*h2(j,1);\n",
    "                F(j,2)=-Rho(j,2)*Cp(j,2)*pi*(r(j,2)^2-r(j,1)^2)/delta_t;\n",
    "\n",
    "                A(j,3)=-Rho(j,3)*q*Cp(j,3)/delta_z(j)-2*pi*r(j,2)*h2(j,1)-2*pi*r(j,3)*h3(j,1)-Rho(j,3)*Cp(j,3)*pi*(r(j,3)^2-r(j,2)^2)/delta_t;\n",
    "                B(j,3)=0;\n",
    "                C(j,3)=Rho(j,3)*q*Cp(j,3)/delta_z(j);\n",
    "                D(j,3)=2*pi*r(j,2)*h2(j,1);\n",
    "                E(j,3)=2*pi*r(j,3)*h3(j,1);\n",
    "                F(j,3)=-Rho(j,3)*Cp(j,3)*pi*(r(j,3)^2-r(j,2)^2)/delta_t;\n",
    "\n",
    "                A(j,4)=-2*lambda(j,4)*pi*(r(j,4)^2-r(j,3)^2)/((delta_z(j-1)+delta_z(j))*delta_z(j))-2*lambda(j,4)*pi*(r(j,4)^2-r(j,3)^2)/((delta_z(j-1)+delta_z(j))*delta_z(j-1))-2*pi*r(j,3)*h3(j,1)-pi*(r(j,4)^2-r(j,3)^2)*log(r(j,5)/r(j,3))/(r(j,4)*(r(j,4)-r(j,3))*log(r(j,5)/r(j,4))*(log(r(j,4)/r(j,3))/lambda(j,4)+log(r(j,5)/r(j,4))/lambda(j,5)))-Rho(j,4)*Cp(j,4)*pi*(r(j,4)^2-r(j,3)^2)/delta_t;\n",
    "                B(j,4)=2*lambda(j,4)*pi*(r(j,4)^2-r(j,3)^2)/((delta_z(j-1)+delta_z(j))*delta_z(j-1));\n",
    "                C(j,4)=2*lambda(j,4)*pi*(r(j,4)^2-r(j,3)^2)/((delta_z(j-1)+delta_z(j))*delta_z(j));\n",
    "                D(j,4)=2*pi*r(j,3)*h3(j,1);\n",
    "                E(j,4)=pi*(r(j,4)^2-r(j,3)^2)*log(r(j,5)/r(j,3))/(r(j,4)*(r(j,4)-r(j,3))*log(r(j,5)/r(j,4))*(log(r(j,4)/r(j,3))/lambda(j,4)+log(r(j,5)/r(j,4))/lambda(j,5)));\n",
    "                F(j,4)=-Rho(j,4)*Cp(j,4)*pi*(r(j,4)^2-r(j,3)^2)/delta_t;\n",
    "            end\n",
    "        end\n",
    "    end\n",
    "\n",
    "    for i=5:nobox_r     % 径向第5层及之后各层的系数计算\n",
    "        for j=1:nobox_z\n",
    "            if j==1     % 井口网格系数的计算\n",
    "                A(j,i)=-log(r(j,i)/r(j,i-2))/(r(j,i)*(r(j,i)-r(j,i-1))*log(r(j,i)/r(j,i-1))*(log(r(j,i-1)/r(j,i-2))/lambda(j,i-1)+log(r(j,i)/r(j,i-1))/lambda(j,i)))-log(r(j,i+1)/r(j,i-1))/(r(j,i)*(r(j,i)-r(j,i-1))*log(r(j,i+1)/r(j,i))*(log(r(j,i)/r(j,i-1))/lambda(j,i)+log(r(j,i+1)/r(j,i))/lambda(j,i+1)))-2*lambda(j,i)/((delta_z(j)+delta_z(j))*delta_z(j))-2*lambda(j,i)/((delta_z(j)+delta_z(j))*delta_z(j))-Rho(j,i)*Cp(j,i)/delta_t;\n",
    "                B(j,i)=2*lambda(j,i)/((delta_z(j)+delta_z(j))*delta_z(j));\n",
    "                C(j,i)=2*lambda(j,i)/((delta_z(j)+delta_z(j))*delta_z(j));\n",
    "                D(j,i)=log(r(j,i)/r(j,i-2))/(r(j,i)*(r(j,i)-r(j,i-1))*log(r(j,i)/r(j,i-1))*(log(r(j,i-1)/r(j,i-2))/lambda(j,i-1)+log(r(j,i)/r(j,i-1))/lambda(j,i)));\n",
    "                E(j,i)=log(r(j,i+1)/r(j,i-1))/(r(j,i)*(r(j,i)-r(j,i-1))*log(r(j,i+1)/r(j,i))*(log(r(j,i)/r(j,i-1))/lambda(j,i)+log(r(j,i+1)/r(j,i))/lambda(j,i+1)));\n",
    "                F(j,i)=-Rho(j,i)*Cp(j,i)/delta_t;\n",
    "            elseif j==nobox_z       % 井底网格系数的计算\n",
    "                A(j,i)=-log(r(j,i)/r(j,i-2))/(r(j,i)*(r(j,i)-r(j,i-1))*log(r(j,i)/r(j,i-1))*(log(r(j,i-1)/r(j,i-2))/lambda(j,i-1)+log(r(j,i)/r(j,i-1))/lambda(j,i)))-log(r(j,i+1)/r(j,i-1))/(r(j,i)*(r(j,i)-r(j,i-1))*log(r(j,i+1)/r(j,i))*(log(r(j,i)/r(j,i-1))/lambda(j,i)+log(r(j,i+1)/r(j,i))/lambda(j,i+1)))-2*lambda(j,i)/((delta_z(j-1)+delta_z(j-1))*delta_z(j-1))-2*lambda(j,i)/((delta_z(j-1)+delta_z(j-1))*delta_z(j-1))-Rho(j,i)*Cp(j,i)/delta_t;\n",
    "                B(j,i)=2*lambda(j,i)/((delta_z(j-1)+delta_z(j-1))*delta_z(j-1));\n",
    "                C(j,i)=2*lambda(j,i)/((delta_z(j-1)+delta_z(j-1))*delta_z(j-1));\n",
    "                D(j,i)=log(r(j,i)/r(j,i-2))/(r(j,i)*(r(j,i)-r(j,i-1))*log(r(j,i)/r(j,i-1))*(log(r(j,i-1)/r(j,i-2))/lambda(j,i-1)+log(r(j,i)/r(j,i-1))/lambda(j,i)));\n",
    "                E(j,i)=log(r(j,i+1)/r(j,i-1))/(r(j,i)*(r(j,i)-r(j,i-1))*log(r(j,i+1)/r(j,i))*(log(r(j,i)/r(j,i-1))/lambda(j,i)+log(r(j,i+1)/r(j,i))/lambda(j,i+1)));\n",
    "                F(j,i)=-Rho(j,i)*Cp(j,i)/delta_t;\n",
    "            else        % 中间网格系数的计算\n",
    "                A(j,i)=-log(r(j,i)/r(j,i-2))/(r(j,i)*(r(j,i)-r(j,i-1))*log(r(j,i)/r(j,i-1))*(log(r(j,i-1)/r(j,i-2))/lambda(j,i-1)+log(r(j,i)/r(j,i-1))/lambda(j,i)))-log(r(j,i+1)/r(j,i-1))/(r(j,i)*(r(j,i)-r(j,i-1))*log(r(j,i+1)/r(j,i))*(log(r(j,i)/r(j,i-1))/lambda(j,i)+log(r(j,i+1)/r(j,i))/lambda(j,i+1)))-2*lambda(j,i)/((delta_z(j-1)+delta_z(j))*delta_z(j))-2*lambda(j,i)/((delta_z(j-1)+delta_z(j))*delta_z(j-1))-Rho(j,i)*Cp(j,i)/delta_t;\n",
    "                B(j,i)=2*lambda(j,i)/((delta_z(j-1)+delta_z(j))*delta_z(j-1));\n",
    "                C(j,i)=2*lambda(j,i)/((delta_z(j-1)+delta_z(j))*delta_z(j));\n",
    "                D(j,i)=log(r(j,i)/r(j,i-2))/(r(j,i)*(r(j,i)-r(j,i-1))*log(r(j,i)/r(j,i-1))*(log(r(j,i-1)/r(j,i-2))/lambda(j,i-1)+log(r(j,i)/r(j,i-1))/lambda(j,i)));\n",
    "                E(j,i)=log(r(j,i+1)/r(j,i-1))/(r(j,i)*(r(j,i)-r(j,i-1))*log(r(j,i+1)/r(j,i))*(log(r(j,i)/r(j,i-1))/lambda(j,i)+log(r(j,i+1)/r(j,i))/lambda(j,i+1)));\n",
    "                F(j,i)=-Rho(j,i)*Cp(j,i)/delta_t;\n",
    "            end\n",
    "        end\n",
    "    end\n",
    "\n",
    "    A99=zeros(nobox_r*nobox_z,1);   % 系数矩阵A存储在向量A99中\n",
    "    B99=zeros(nobox_r*nobox_z,1);   % 系数矩阵B存储在向量B99中\n",
    "    C99=zeros(nobox_r*nobox_z,1);   % 系数矩阵C存储在向量C99中\n",
    "    D99=zeros(nobox_r*nobox_z,1);   % 系数矩阵D存储在向量D99中\n",
    "    E99=zeros(nobox_r*nobox_z,1);   % 系数矩阵E存储在向量E99中\n",
    "    F99=zeros(nobox_r*nobox_z,1);   % 系数矩阵F存储在向量F99中\n",
    "\n",
    "    % 系数矩阵A存储在向量A99中\n",
    "    A99(1:nobox_z)=A(:,1);\n",
    "    A99(nobox_z+1)=A(1,2)+B(1,2);\n",
    "    A99(nobox_z+2:2*nobox_z-1)=A(2:nobox_z-1,2);\n",
    "    A99(2*nobox_z)=A(nobox_z,2)+C(nobox_z,2);\n",
    "    A99(2*nobox_z+1:3*nobox_z-1)=A(1:nobox_z-1,3);\n",
    "    A99(3*nobox_z)=A(nobox_z,3)+C(nobox_z,3);\n",
    "    for i=4:nobox_r\n",
    "        A99((i-1)*nobox_z+1)=A(1,i)+B(1,i);\n",
    "        A99((i-1)*nobox_z+2:i*nobox_z-1)=A(2:nobox_z-1,i);\n",
    "        A99(i*nobox_z)=A(nobox_z,i)+C(nobox_z,i);\n",
    "    end\n",
    "\n",
    "    % 系数矩阵B、C、D、E、F存储在向量B99、C99、D99、E99、F99中\n",
    "    for i=1:nobox_r\n",
    "        B99((i-1)*nobox_z+1:i*nobox_z)=B(:,i);\n",
    "        C99((i-1)*nobox_z+1:i*nobox_z)=C(:,i);\n",
    "        D99((i-1)*nobox_z+1:i*nobox_z)=D(:,i);\n",
    "        E99((i-1)*nobox_z+1:i*nobox_z)=E(:,i);\n",
    "        F99((i-1)*nobox_z+1:i*nobox_z)=F(:,i);\n",
    "    end\n",
    "\n",
    "    %% 给温度场向量赋初值\n",
    "    X=zeros(nobox_r*nobox_z,1);     % 温度场向量\n",
    "    % 钻杆内钻井液、钻杆壁、环空内钻井液温度\n",
    "    X(1)=Tm0;           % 井口温度为钻井液注入温度\n",
    "    X(1+nobox_z)=Tm0;   % 井口温度为钻井液注入温度\n",
    "    X(1+2*nobox_z)=Tm0; % 井口温度为钻井液注入温度\n",
    "    for j=2:nobox_z\n",
    "        X(j)=X(j-1)+delta_z(j-1)*Tfg;                       % 钻杆内钻井液温度以地温梯度增加\n",
    "        X(j+nobox_z)=X(j+nobox_z-1)+delta_z(j-1)*Tfg;       % 钻杆壁温度以地温梯度增加\n",
    "        X(j+2*nobox_z)=X(j+2*nobox_z-1)+delta_z(j-1)*Tfg;   % 环空内钻井液温度以地层梯度增加\n",
    "    end\n",
    "\n",
    "    for i=4:nobox_r     % 第4层及之后各层温度初值\n",
    "        X((i-1)*nobox_z+1)=Tf0; % 井口温度为地表温度\n",
    "        for j=2:nobox_z\n",
    "            X((i-1)*nobox_z+j)=X((i-1)*nobox_z+j-1)+delta_z(j-1)*Tfg;   % 温度以地温梯度增加\n",
    "        end \n",
    "    end\n",
    "\n",
    "    Tf=zeros(nobox_z,1);    % 原始地层温度\n",
    "    Tf(1)=Tf0;              % 井口温度为地表温度\n",
    "    for j=2:nobox_z\n",
    "        Tf(j)=Tf(j-1)+delta_z(j-1)*Tfg; % 温度以地温梯度增加\n",
    "    end\n",
    "\n",
    "    X0=zeros(nobox_r*nobox_z,1);    % 存储每次计算的温度场，对比迭代温度场的差值\n",
    "    BC=zeros(nobox_r*nobox_z,1);    % 温度控制方程的右端项向量\n",
    "    X1=zeros(nobox_r*nobox_z,timesteps);\t% 存储每一个时间步计算的温度场\n",
    "    \n",
    "    for nt=1:timesteps\n",
    "\n",
    "        %% 温度控制方程的右端项向量计算\n",
    "        BC(1)=-B99(1)*Tm0+F99(1)*X(1);\n",
    "        for i=2:(nobox_r-1)*nobox_z\n",
    "            BC(i)=F99(i)*X(i);\n",
    "        end\n",
    "        for i=(nobox_r-1)*nobox_z+1:nobox_r*nobox_z\n",
    "            BC(i)=F99(i)*X(i)-E99(i)*Tf(i-(nobox_r-1)*nobox_z);\n",
    "        end\n",
    "\n",
    "        max1=1;         % 迭代误差初值，为了进入循环\n",
    "        err=0.001;      % 迭代误差限\n",
    "        k=0;            % 迭代步数计数器\n",
    "\n",
    "        while max1>err\n",
    "            k=k+1;\n",
    "            max1=0;     % 进入循环后，max1赋值为0，这样后面得到的max1为迭代过程中得到的\n",
    "\n",
    "            X0=X;       % 将X赋值给X0存储\n",
    "\n",
    "            %% 计算新的X\n",
    "            X(1)=(BC(1)-E99(1)*X(1+nobox_z))/A99(1);\n",
    "            for j=2:nobox_z\n",
    "                X(j)=(BC(j)-B99(j)*X(j-1)-E99(j)*X(j+nobox_z))/A99(j);\n",
    "            end\n",
    "\n",
    "            X(2*nobox_z)=X(nobox_z);\n",
    "            for j=2*nobox_z-1:-1:nobox_z+2\n",
    "                X(j)=(BC(j)-B99(j)*X(j-1)-C99(j)*X(j+1)-D99(j)*X(j-nobox_z)-E99(j)*X(j+nobox_z))/A99(j);\n",
    "            end\n",
    "            X(nobox_z+1)=(BC(nobox_z+1)-C99(nobox_z+1)*X(nobox_z+2)-D99(nobox_z+1)*X(1)-E99(nobox_z+1)*X(2*nobox_z+1))/A99(nobox_z+1);\n",
    "\n",
    "            X(3*nobox_z)=X(nobox_z);\n",
    "            for j=3*nobox_z-1:-1:2*nobox_z+1\n",
    "                X(j)=(BC(j)-C99(j)*X(j+1)-D99(j)*X(j-nobox_z)-E99(j)*X(j+nobox_z))/A99(j);\n",
    "            end\n",
    "\n",
    "            X(3*nobox_z+1:3*nobox_z+Weiguan_i)=X(2*nobox_z+1:2*nobox_z+Weiguan_i);\n",
    "            for j=Weiguan_i+1:nobox_z-1\n",
    "                X(3*nobox_z+j)=(BC(3*nobox_z+j)-B99(3*nobox_z+j)*X(3*nobox_z+j-1)-C99(3*nobox_z+j)*X(3*nobox_z+j+1)-D99(3*nobox_z+j)*X(2*nobox_z+j)-E99(3*nobox_z+j)*X(4*nobox_z+j))/A99(3*nobox_z+j);\n",
    "            end\n",
    "            X(4*nobox_z)=(BC(4*nobox_z)-B99(4*nobox_z)*X(4*nobox_z-1)-D99(4*nobox_z)*X(3*nobox_z)-E99(4*nobox_z)*X(5*nobox_z))/A99(4*nobox_z);\n",
    "            \n",
    "            X(4*nobox_z+1:4*nobox_z+Weiguan_i)=X(2*nobox_z+1:2*nobox_z+Weiguan_i);\n",
    "            X(4*nobox_z+1:4*nobox_z+Weiguan_i)=X(2*nobox_z+1:2*nobox_z+Weiguan_i);\n",
    "            for j=Weiguan_i+1:nobox_z-1\n",
    "                X(4*nobox_z+j)=(BC(4*nobox_z+j)-B99(4*nobox_z+j)*X(4*nobox_z+j-1)-C99(4*nobox_z+j)*X(4*nobox_z+j+1)-D99(4*nobox_z+j)*X(3*nobox_z+j)-E99(4*nobox_z+j)*X(5*nobox_z+j))/A99(4*nobox_z+j);\n",
    "            end\n",
    "            X(5*nobox_z)=(BC(5*nobox_z)-B99(5*nobox_z)*X(5*nobox_z-1)-D99(5*nobox_z)*X(4*nobox_z)-E99(5*nobox_z)*X(6*nobox_z))/A99(5*nobox_z);\n",
    "         \n",
    "            for i=6:nobox_r-1\n",
    "                X((i-1)*nobox_z+1)=(BC((i-1)*nobox_z+1)-C99((i-1)*nobox_z+1)*X((i-1)*nobox_z+2)-D99((i-1)*nobox_z+1)*X((i-2)*nobox_z+1)-E99((i-1)*nobox_z+1)*X(i*nobox_z+1))/A99((i-1)*nobox_z+1);\n",
    "                for j=(i-1)*nobox_z+2:i*nobox_z-1\n",
    "                    X(j)=(BC(j)-B99(j)*X(j-1)-C99(j)*X(j+1)-D99(j)*X(j-nobox_z)-E99(j)*X(j+nobox_z))/A99(j);\n",
    "                end\n",
    "                X(i*nobox_z)=(BC(i*nobox_z)-B99(i*nobox_z)*X(i*nobox_z-1)-D99(i*nobox_z)*X((i-1)*nobox_z)-E99(i*nobox_z)*X((i+1)*nobox_z))/A99(i*nobox_z);\n",
    "            end\n",
    "\n",
    "            X((nobox_r-1)*nobox_z+1)=(BC((nobox_r-1)*nobox_z+1)-C99((nobox_r-1)*nobox_z+1)*X((nobox_r-1)*nobox_z+2)-D99((nobox_r-1)*nobox_z+1)*X((nobox_r-2)*nobox_z+1))/A99((nobox_r-1)*nobox_z+1);\n",
    "            for j=(nobox_r-1)*nobox_z+2:nobox_r*nobox_z-1\n",
    "                X(j)=(BC(j)-B99(j)*X(j-1)-C99(j)*X(j+1)-D99(j)*X(j-nobox_z))/A99(j);\n",
    "            end\n",
    "            X(nobox_r*nobox_z)=(BC(nobox_r*nobox_z)-B99(nobox_r*nobox_z)*X(nobox_r*nobox_z-1)-D99(nobox_r*nobox_z)*X((nobox_r-1)*nobox_z))/A99(nobox_r*nobox_z);\n",
    "\n",
    "            %% 对比新计算的X与迭代前的X之间的误差，并得到最大误差值\n",
    "            for i=1:nobox_r*nobox_z\n",
    "                m=abs(X0(i)-X(i));\n",
    "                if m>max1\n",
    "                    max1=m;\n",
    "                end\n",
    "            end\n",
    "        end\n",
    "        X1(1:nobox_r*nobox_z,nt)=X(1:nobox_r*nobox_z);          % 将当前时间步计算收敛得到的温度场赋值给X1\n",
    "        T_Drillpipe(1:nobox_z,nt)=X1(1:nobox_z,nt);             % 从X1中提取出钻杆内钻井液温度\n",
    "        T_Annulus(1:nobox_z,nt)=X1(2*nobox_z+1:3*nobox_z,nt);   % 从X1中提取出环空内钻井液温度\n",
    "        nt\n",
    "    end\n",
    "end\n",
    "\n",
    "%% 绘制井筒温度随井深变化曲线\n",
    "h=figure(1);                                                \n",
    "plot(T_Drillpipe(:,timesteps),Depth,'r-','LineWidth',2);\t% 绘制钻杆内钻井液温度随井深变化\n",
    "hold on\n",
    "plot(T_Annulus(:,timesteps),Depth,'b-.','LineWidth',2);\t% 绘制环空内钻井液温度随井深变化\n",
    "hold off\n",
    "set(gca,'YDir','reverse')\t% Y轴井深逆序\n",
    "title('井筒温度随井深变化曲线','FontWeight','Bold','Color','r');\t% 曲线标题\n",
    "xlabel('温度（℃）')\n",
    "ylabel('井深（m）')\n",
    "legend('钻杆内温度','环空内温度','Location','Best')\t% 设置图例及位置\n",
    "set(gca,'FontSize',14);\n",
    "grid on     % 显示坐标轴的主网格线\n",
    "grid minor  % 显示坐标轴的次网格线\n",
    "\n",
    "T_Drillpipe(nobox_z,timesteps)\n",
    "T_Annulus(1,timesteps)\n",
    "\n",
    "toc;"
   ]
  },
  {
   "cell_type": "code",
   "execution_count": null,
   "id": "d5948eeb",
   "metadata": {},
   "outputs": [],
   "source": []
  }
 ],
 "metadata": {
  "kernelspec": {
   "display_name": "MATLAB Kernel",
   "language": "matlab",
   "name": "jupyter_matlab_kernel"
  },
  "language_info": {
   "file_extension": ".m",
   "mimetype": "text/x-matlab",
   "name": "matlab"
  }
 },
 "nbformat": 4,
 "nbformat_minor": 5
}
